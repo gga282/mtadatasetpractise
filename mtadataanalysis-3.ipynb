{
 "cells": [
  {
   "cell_type": "code",
   "execution_count": null,
   "id": "86b02d90-0471-45bb-b097-5315c76d79b9",
   "metadata": {},
   "outputs": [],
   "source": [
    "import numpy as np\n",
    "import pandas as pd\n",
    "\n",
    "df1=pd.read_csv('MTA_Subway_HourlyBeginning_February_2022.csv')\n",
    "df2=pd.read_csv('subway2022jan.csv')\n",
    "df1.info()"
   ]
  },
  {
   "cell_type": "code",
   "execution_count": null,
   "id": "1bd78988-3824-49f2-8124-070aba35f442",
   "metadata": {},
   "outputs": [],
   "source": [
    "df2.info()\n",
    "df=pd.concat([df1,df2],ignore_index=True)"
   ]
  },
  {
   "cell_type": "code",
   "execution_count": null,
   "id": "b53158b6-6526-4f5e-a27c-7c36aff85609",
   "metadata": {},
   "outputs": [],
   "source": [
    "df.info()"
   ]
  },
  {
   "cell_type": "code",
   "execution_count": null,
   "id": "5a0d01b9-80f1-42a5-a191-245d0a3db62b",
   "metadata": {},
   "outputs": [],
   "source": [
    "#df['borough'].value_counts()\n",
    "df=df.drop(columns=['transit_mode', 'fare_class_category'])\n",
    "df.info()"
   ]
  },
  {
   "cell_type": "code",
   "execution_count": null,
   "id": "e0fb54a7-ed8c-454b-9603-25ec4772e895",
   "metadata": {},
   "outputs": [],
   "source": [
    "org_df=df.copy()\n",
    "df['borough'].value_counts()"
   ]
  },
  {
   "cell_type": "code",
   "execution_count": null,
   "id": "f7bfefe5-d81d-46b6-b847-f030b08d2294",
   "metadata": {},
   "outputs": [],
   "source": [
    "mapping={'BK':'Brooklyn','M':'Manhattan','BX':'Bronx','Q':'Queens'}\n",
    "df['borough']=df['borough'].replace(mapping)"
   ]
  },
  {
   "cell_type": "code",
   "execution_count": null,
   "id": "a8889e74-0241-4a79-90d9-1a83c8c3c90e",
   "metadata": {},
   "outputs": [],
   "source": [
    "df['borough'].unique()"
   ]
  },
  {
   "cell_type": "code",
   "execution_count": null,
   "id": "ecbc8b19-c0bb-4bf0-9a86-4923d3a1f021",
   "metadata": {},
   "outputs": [],
   "source": [
    "df['borough'].value_counts()\n",
    "station_df=df[['station_complex','borough']]\n",
    "station_df.groupby('borough')['station_complex'].nunique()"
   ]
  },
  {
   "cell_type": "code",
   "execution_count": null,
   "id": "663d7ed7-b5b0-4b9f-ae43-019a565a81c9",
   "metadata": {},
   "outputs": [],
   "source": [
    "df['transit_timestamp']=df['transit_timestamp'].str.split(' ')"
   ]
  },
  {
   "cell_type": "code",
   "execution_count": null,
   "id": "50dd6b28-116f-4ee8-b985-ada9d1a3cd99",
   "metadata": {},
   "outputs": [],
   "source": [
    "df['transit_timestamp'][100]"
   ]
  },
  {
   "cell_type": "code",
   "execution_count": null,
   "id": "660e01b8-1af1-4fb7-a796-5402ec4e510c",
   "metadata": {},
   "outputs": [],
   "source": [
    "df['date']=[x[0] for x in df['transit_timestamp']]\n",
    "df['time']=[x[1]+\" \"+x[2] for x in df['transit_timestamp']]"
   ]
  },
  {
   "cell_type": "code",
   "execution_count": null,
   "id": "0593167f-2111-4d65-8fbc-a406b3dc99de",
   "metadata": {},
   "outputs": [],
   "source": [
    "df.drop(axis='columns',labels='transit_timestamp',inplace=True)"
   ]
  },
  {
   "cell_type": "code",
   "execution_count": null,
   "id": "81ce5040-d0d4-4a72-bc9b-768070e4d64a",
   "metadata": {},
   "outputs": [],
   "source": [
    "df.info()"
   ]
  },
  {
   "cell_type": "code",
   "execution_count": null,
   "id": "4fb1190e-737b-4863-b27e-a354512f48db",
   "metadata": {},
   "outputs": [],
   "source": [
    "df['date']=pd.to_datetime(df['date'],format=\"%m/%d/%Y\")\n",
    "df['time']=pd.to_datetime(df['time'],format='%I:%M:%S %p').dt.time"
   ]
  },
  {
   "cell_type": "code",
   "execution_count": null,
   "id": "cc2d2886-40a0-4d5a-8b53-ccbc004cdbd2",
   "metadata": {},
   "outputs": [],
   "source": [
    "df['full_datetime']=pd.to_datetime(df['date'].astype(str)+' '+df['time'].astype(str),errors='coerce')"
   ]
  },
  {
   "cell_type": "code",
   "execution_count": null,
   "id": "30316ef3-3fb4-4c00-b781-14d5089b8ca4",
   "metadata": {},
   "outputs": [],
   "source": [
    "df2022=df[(df['full_datetime']>=pd.to_datetime('2022-01-01'))&(df['full_datetime']<=pd.to_datetime('2023-01-01'))]"
   ]
  },
  {
   "cell_type": "code",
   "execution_count": null,
   "id": "80db1da8-c135-400a-87be-1cd1940526b1",
   "metadata": {},
   "outputs": [],
   "source": [
    "df2022['full_datetime'].min()\n",
    "df2022['full_datetime'].max()\n",
    "df2022.duplicated().sum()"
   ]
  },
  {
   "cell_type": "code",
   "execution_count": null,
   "id": "827cb638-56bd-47bb-8d1b-26ee6936da04",
   "metadata": {},
   "outputs": [],
   "source": [
    "#df2022.drop(axis='columns',labels=['time'],inplace=True)\n",
    "df2022.duplicated(subset=['station_complex_id']).sum()\n",
    "df2022[df2022.duplicated(subset=['station_complex_id', 'full_datetime'])].head(5)"
   ]
  },
  {
   "cell_type": "code",
   "execution_count": null,
   "id": "eecd29aa-e3be-43f4-9bab-66f487a0ae52",
   "metadata": {},
   "outputs": [],
   "source": [
    "df2022['check_key']=df2022['station_complex_id'].astype(str)+'_'+df2022['full_datetime'].astype(str)+df2022['time'].astype(str)"
   ]
  },
  {
   "cell_type": "code",
   "execution_count": null,
   "id": "fee26d1e-707b-4504-bdf3-c19a29bca13b",
   "metadata": {},
   "outputs": [],
   "source": [
    "#df2022['month']=df2022['full_datetime'].dt.month\n",
    "df2022[df2022['check_key']=='R639_2022-06-05 04:00:0004:00:00']"
   ]
  },
  {
   "cell_type": "code",
   "execution_count": null,
   "id": "f559c0f5-0544-4ef7-95b5-d5e54d8ff448",
   "metadata": {},
   "outputs": [],
   "source": [
    "df2022.loc[df2022['check_key'] =='R639_2022-06-05 04:00:0004:00:00']\n",
    "duplicate_indexes=df2022.index[df2022['check_key']=='R639_2022-06-05 04:00:0004:00:00'].tolist()\n",
    "print(duplicate_indexes)"
   ]
  },
  {
   "cell_type": "code",
   "execution_count": null,
   "id": "98e0d203-a096-4f2d-abce-6bd5da7b84a9",
   "metadata": {},
   "outputs": [],
   "source": [
    "#import calendar\n",
    "#monthnames=list(calendar.month_name)\n",
    "#monthnames\n",
    "#df2022['month']=df2022['month'].map(lambda x: monthnames[x])\n",
    "#df2022['month'].value_counts()"
   ]
  },
  {
   "cell_type": "code",
   "execution_count": null,
   "id": "db625370-dfbc-4883-b6dd-ab7c8e1336dd",
   "metadata": {},
   "outputs": [],
   "source": [
    "#df2022['full_datetime'].min()"
   ]
  },
  {
   "cell_type": "code",
   "execution_count": null,
   "id": "e8e281e1-f461-4e31-8eb4-a189ee6bdac2",
   "metadata": {},
   "outputs": [],
   "source": [
    "#df2022['year']=df2022['full_datetime'].dt.year"
   ]
  },
  {
   "cell_type": "code",
   "execution_count": null,
   "id": "541f7524-79ce-462d-9cd9-0319edb9cd1a",
   "metadata": {},
   "outputs": [],
   "source": [
    "#df2022.head(5)"
   ]
  },
  {
   "cell_type": "code",
   "execution_count": null,
   "id": "dd48a651-bfc9-4a92-9249-bd9f78d1326a",
   "metadata": {},
   "outputs": [],
   "source": [
    "df2022['check_key'].value_counts().reset_index(name='count').rename(columns={'index': 'check_key'})"
   ]
  },
  {
   "cell_type": "code",
   "execution_count": null,
   "id": "c89cdc9d-053e-4d02-b965-486198bdd24a",
   "metadata": {},
   "outputs": [],
   "source": [
    "#no duplicate- ridership numbers splitted by also payment_method\n",
    "df2022[df2022['check_key']=='611_2022-01-24 14:00:0014:00:00']"
   ]
  },
  {
   "cell_type": "code",
   "execution_count": null,
   "id": "46b8da57-20be-4cd0-a592-5fb351c21db0",
   "metadata": {},
   "outputs": [],
   "source": [
    "grouped_df=df2022.groupby(['station_complex_id','station_complex','borough','date','time','full_datetime']).agg({\n",
    "    'ridership': 'sum',\n",
    "    'latitude': 'first',\n",
    "    'longitude': 'first',\n",
    "    'Georeference': 'first'}).reset_index()"
   ]
  },
  {
   "cell_type": "code",
   "execution_count": null,
   "id": "10ff2c77-e56a-438f-8bda-4ea2555c738b",
   "metadata": {},
   "outputs": [],
   "source": [
    "grouped_df.info()"
   ]
  },
  {
   "cell_type": "code",
   "execution_count": null,
   "id": "d20a99ad-10ca-4936-84ad-3bf7c8ea5124",
   "metadata": {},
   "outputs": [],
   "source": [
    "grouped_df.sort_values(by='ridership',ascending=False).head(5)"
   ]
  },
  {
   "cell_type": "code",
   "execution_count": null,
   "id": "9241267b-6748-44dc-a85b-e069b568df94",
   "metadata": {},
   "outputs": [],
   "source": [
    "grouped_df['date'].max()\n",
    "copyofgrouped=grouped_df.copy()"
   ]
  },
  {
   "cell_type": "code",
   "execution_count": null,
   "id": "71379c2f-4e6d-4349-a0d5-d5ae7dd79510",
   "metadata": {},
   "outputs": [],
   "source": [
    "#grouped_df.to_csv('groupedcleanedsubway22.csv')"
   ]
  },
  {
   "cell_type": "code",
   "execution_count": null,
   "id": "6fc42c1e-f358-41a2-babb-69586eaff4f4",
   "metadata": {},
   "outputs": [],
   "source": [
    "#df.groupby('station_complex').count()\n",
    "grouped_df"
   ]
  },
  {
   "cell_type": "code",
   "execution_count": null,
   "id": "0a01b1da-4765-48e6-a2cd-654936078afa",
   "metadata": {},
   "outputs": [],
   "source": [
    "import calendar\n",
    "monthnames=list(calendar.month_name)\n",
    "monthnames\n",
    "grouped_df['month']=grouped_df['date'].dt.month_name()\n",
    "grouped_df['month']=grouped_df['month'].map(lambda x: monthnames[x])\n",
    "grouped_df['month'].value_counts()"
   ]
  },
  {
   "cell_type": "code",
   "execution_count": null,
   "id": "268b8e60-51f6-4c54-b454-6302fb3f8479",
   "metadata": {},
   "outputs": [],
   "source": [
    "grouped_df['month'].unique()"
   ]
  },
  {
   "cell_type": "code",
   "execution_count": null,
   "id": "f27f6cc8-4b50-49e1-a3c8-d6aa9f6c2493",
   "metadata": {},
   "outputs": [],
   "source": [
    "grouped_df.info()"
   ]
  },
  {
   "cell_type": "code",
   "execution_count": null,
   "id": "142f37bf-c2aa-4717-86ad-c0aa8b1e3d5f",
   "metadata": {},
   "outputs": [],
   "source": [
    "dfyear=grouped_df.groupby(['station_complex_id','station_complex','borough','latitude','longitude'],as_index=False)['ridership'].sum()\n"
   ]
  },
  {
   "cell_type": "code",
   "execution_count": null,
   "id": "e4080acf-a827-4dac-99eb-fa895aa7808c",
   "metadata": {},
   "outputs": [],
   "source": [
    "dfyear.info()\n",
    "dfyear['ridership'].sum()"
   ]
  },
  {
   "cell_type": "code",
   "execution_count": null,
   "id": "3cafd0e2-4b31-4565-832b-30a6e0e764ec",
   "metadata": {},
   "outputs": [],
   "source": [
    "import plotly.express as px\n",
    "\n",
    "fig = px.density_mapbox(\n",
    "    dfyear.sort_values(by='ridership', ascending=False).head(500),\n",
    "    lat='latitude',\n",
    "    lon='longitude',\n",
    "    z='ridership',\n",
    "    hover_name='station_complex',\n",
    "    radius=20,\n",
    "    zoom=10,\n",
    "    mapbox_style='open-street-map',\n",
    "    height=700,\n",
    "    title='NYC Subway Stations by Annual Ridership (2022) — Density Heatmap'\n",
    ")\n",
    "fig.show()"
   ]
  },
  {
   "cell_type": "code",
   "execution_count": null,
   "id": "5bdd15ba-4e5d-4d21-999e-3e35210d33c9",
   "metadata": {},
   "outputs": [],
   "source": [
    "dfyear.sort_values(by='ridership',ascending=False).head(10)"
   ]
  },
  {
   "cell_type": "code",
   "execution_count": null,
   "id": "531db4b4-6344-4513-95f7-0f68133e99ae",
   "metadata": {},
   "outputs": [],
   "source": [
    "manhattantotalnum=dfyear[dfyear['borough']=='Manhattan']['ridership']"
   ]
  },
  {
   "cell_type": "code",
   "execution_count": null,
   "id": "7f9cfa3b-08e0-437e-963b-4216ee63872d",
   "metadata": {},
   "outputs": [],
   "source": [
    "manhattantotalnum.sum()"
   ]
  },
  {
   "cell_type": "code",
   "execution_count": null,
   "id": "14a9137d-b9e2-4aa2-b5e0-165ce95c89f9",
   "metadata": {},
   "outputs": [],
   "source": [
    "borough_df = borough_total_df[:4].reset_index()\n",
    "borough_total_df=dfyear.groupby('borough')['ridership'].sum()"
   ]
  },
  {
   "cell_type": "code",
   "execution_count": null,
   "id": "b8cacbd3-426d-49f0-a4f8-0c81c2cff222",
   "metadata": {},
   "outputs": [],
   "source": [
    "borough_total_df[:4]"
   ]
  },
  {
   "cell_type": "code",
   "execution_count": null,
   "id": "9ed54d81-7c89-4587-b57c-2bc86724f74d",
   "metadata": {},
   "outputs": [],
   "source": [
    "import matplotlib.pyplot as plt\n",
    "import seaborn as sns\n",
    "\n",
    "top10stationsorted=dfyear.sort_values(by='ridership',ascending=False).head(10)\n",
    "plt.figure(figsize=(10,6))\n",
    "sns.barplot(data=top10stationsorted,x='ridership',y='station_complex',palette='viridis',orient='h')\n",
    "\n",
    "\n",
    "plt.ylabel('Station Names',fontsize=14)\n",
    "plt.title('Top 10 Subway Stations by Annual 2022 Ridership Figures')\n",
    "\n",
    "plt.xticks(rotation=45, ha='right')\n",
    "plt.savefig('Top 10 Subway Stations by Annual 2022 Ridership Figures', dpi=300, bbox_inches='tight')\n",
    "plt.show()"
   ]
  },
  {
   "cell_type": "code",
   "execution_count": null,
   "id": "077eaa1e-ea48-41d0-be29-0fff7af80b94",
   "metadata": {},
   "outputs": [],
   "source": [
    "plt.figure(figsize=(10,6))\n",
    "plt.pie(borough_total_df.values[:4],autopct='%1.0f%%')\n",
    "plt.legend(borough_total_df.index[:4],title=\"Boroughs\",loc=\"center left\",bbox_to_anchor=(1, 0, 0.5, 1))\n",
    "plt.title('Annual Subway Ridership Percentage by Boroughs')\n",
    "plt.savefig('Annual Subway Ridership Percentage by Boroughs')\n",
    "plt.show()\n"
   ]
  },
  {
   "cell_type": "code",
   "execution_count": null,
   "id": "26fd4ac7-fc23-4dd2-99e4-da3ab7542fde",
   "metadata": {},
   "outputs": [],
   "source": [
    "dfmonth=grouped_df.groupby(['station_complex_id','station_complex','borough','latitude','longitude','month'],as_index=False)['ridership'].sum()"
   ]
  },
  {
   "cell_type": "code",
   "execution_count": null,
   "id": "a04fad24-639d-46a7-93a3-a4dc92f5c9da",
   "metadata": {},
   "outputs": [],
   "source": [
    "dfmonth.sort_values(by='ridership',ascending=False).head(10)"
   ]
  },
  {
   "cell_type": "code",
   "execution_count": null,
   "id": "73acc067-248c-4334-97fb-94374fd8063f",
   "metadata": {},
   "outputs": [],
   "source": [
    "top_ten_station_names=dfyear.sort_values(by='ridership',ascending=False).head(10)['station_complex']\n",
    "top_ten_station_names.values"
   ]
  },
  {
   "cell_type": "code",
   "execution_count": null,
   "id": "01e9158f-2889-43f2-a680-9dd70b8b83eb",
   "metadata": {},
   "outputs": [],
   "source": [
    "dfmonth[dfmonth['station_complex'].isin(top_ten_station_names.values)]\n",
    "#sort_values(by='ridership',ascending=False).head(10)"
   ]
  },
  {
   "cell_type": "code",
   "execution_count": null,
   "id": "e0fa705d-6fb9-4449-a239-d92b55481598",
   "metadata": {},
   "outputs": [],
   "source": [
    "#dfmonth[dfmonth['station_complex'].isin(top_ten_station_names.values)]"
   ]
  },
  {
   "cell_type": "code",
   "execution_count": null,
   "id": "77da7426-dad1-4c3a-af10-6f410644a824",
   "metadata": {},
   "outputs": [],
   "source": [
    "monthtotal=dfmonth.groupby(['month','station_complex_id','station_complex','borough','latitude','longitude'],as_index=False)['ridership'].sum()"
   ]
  },
  {
   "cell_type": "code",
   "execution_count": null,
   "id": "37b42951-4e2a-46a4-8f5d-0b48aeebb098",
   "metadata": {},
   "outputs": [],
   "source": [
    "monthtotal[monthtotal['month']=='April']['ridership'].sum()"
   ]
  },
  {
   "cell_type": "code",
   "execution_count": null,
   "id": "79a4c82b-df5d-48a4-932e-96c5ebfeb213",
   "metadata": {},
   "outputs": [],
   "source": [
    "monthly_ridership=monthtotal.groupby('month')['ridership'].sum()\n",
    "month_order=monthnames[1:]\n",
    "month_order"
   ]
  },
  {
   "cell_type": "code",
   "execution_count": null,
   "id": "fe9ec677-59e1-44fb-8aec-f1e84e0eb7ff",
   "metadata": {},
   "outputs": [],
   "source": [
    "monthly_ridership=monthly_ridership.reindex(month_order)"
   ]
  },
  {
   "cell_type": "code",
   "execution_count": null,
   "id": "4dbd311a-d21a-40da-bf68-c5dcbc5ddd1c",
   "metadata": {},
   "outputs": [],
   "source": [
    "plt.figure(figsize=(12,6))\n",
    "plt.plot(monthly_ridership.index,monthly_ridership.values,marker='o')\n",
    "#plt.xlabel('Monthly Ridership Figures')\n",
    "plt.ylabel('Monthly Ridership Figures (in millions)')\n",
    "plt.title('NYC Subway Monthly Ridership Trends (2022-2023)')\n",
    "plt.yticks([6e7, 7e7, 8e7, 9e7, 1e8],['60M', '70M', '80M', '90M', '100M'])\n",
    "plt.savefig('NYC Subway Monthly Ridership Trends (2022-2023)')\n",
    "plt.show()"
   ]
  },
  {
   "cell_type": "code",
   "execution_count": null,
   "id": "e4d1bc99-ff32-474e-a334-876c9dd2dff3",
   "metadata": {},
   "outputs": [],
   "source": [
    "fig1 = px.density_heatmap(\n",
    "    x=monthly_ridership.index,   \n",
    "    y=[\"\"]*len(monthly_ridership),  \n",
    "    z=monthly_ridership.values,  \n",
    "    color_continuous_scale=\"Viridis\", \n",
    "    labels={'x': 'Month', 'y': '', 'z': 'Ridership'},\n",
    ")\n",
    "\n",
    "#fig1.update_layout(\n",
    "#    title='NYC Subway Monthly Ridership Trends (2022-2023)',\n",
    "#    xaxis_title='Month',\n",
    "#    yaxis_title='',\n",
    "#    yaxis_showticklabels=False,\n",
    "#    height=500,\n",
    "#    width=800\n",
    "#)\n",
    "\n",
    "fig1.update_layout(\n",
    "    title={\n",
    "        'text': 'NYC Subway Monthly Ridership Trends (2022–2023)',\n",
    "        'y': 0.95,\n",
    "        'x': 0.5,\n",
    "        'xanchor': 'center',\n",
    "        'yanchor': 'top',\n",
    "        'font': dict(size=22, family='Arial', color='darkblue')\n",
    "    },\n",
    "    xaxis=dict(\n",
    "        title='Month',\n",
    "        titlefont=dict(size=16),\n",
    "        tickfont=dict(size=14),\n",
    "        tickangle=45\n",
    "    ),\n",
    "    yaxis=dict(\n",
    "        title='',  # intentionally left blank\n",
    "        showticklabels=False\n",
    "    ),\n",
    "    height=500,\n",
    "    width=900,\n",
    "    margin=dict(l=50, r=50, t=80, b=50),\n",
    "    coloraxis_colorbar=dict(\n",
    "        title='Ridership',\n",
    "        ticksuffix='',\n",
    "        titlefont=dict(size=14),\n",
    "        tickfont=dict(size=12)\n",
    "    )\n",
    ")\n",
    "\n",
    "fig1.show()"
   ]
  },
  {
   "cell_type": "code",
   "execution_count": null,
   "id": "8ae63520-0903-4c0a-bc4c-27852c7da438",
   "metadata": {},
   "outputs": [],
   "source": [
    "df2022['time']=df2022['full_datetime'].dt.hour"
   ]
  },
  {
   "cell_type": "code",
   "execution_count": null,
   "id": "bac114fe-42b1-498b-82ad-6b74711980f4",
   "metadata": {},
   "outputs": [],
   "source": [
    "hourly_ridership=df2022.groupby('time')['ridership'].sum()\n",
    "plt.figure(figsize=(14,7))\n",
    "hourly_ridership.plot(kind='bar',color='#1f77b4',width=0.8,edgecolor='black')\n",
    "plt.title('Hourly Subway Ridership Distribution (2022)', fontsize=20, fontweight='bold')\n",
    "plt.xlabel('Hour of Day (24h format)', fontsize=14)\n",
    "plt.ylabel('Total Entries', fontsize=14)\n",
    "plt.xticks(rotation=0, fontsize=12)\n",
    "plt.yticks(fontsize=12)\n",
    "plt.grid(axis='y', linestyle='--', alpha=0.7)\n",
    "plt.savefig('Hourly Subway Ridership Distribution (2022)',dpi=300, bbox_inches='tight')\n",
    "plt.tight_layout();"
   ]
  },
  {
   "cell_type": "code",
   "execution_count": null,
   "id": "6a9d14d1-cd94-49bc-9fc9-9463f796cbde",
   "metadata": {},
   "outputs": [],
   "source": [
    "#changed to mean as i was intented to calculate mean but i originally used sum\n",
    "hourly_ridership_per_station=df2022.groupby(['station_complex','time','borough','latitude','longitude'])['ridership'].mean().reset_index()"
   ]
  },
  {
   "cell_type": "code",
   "execution_count": null,
   "id": "cc8dbfeb-c113-4b44-abf8-4bca1d443bdc",
   "metadata": {},
   "outputs": [],
   "source": [
    "hourly_ridership_per_station.sort_values(by='ridership',ascending=False)\n",
    "hourly_ridership_per_station.head(10)"
   ]
  },
  {
   "cell_type": "code",
   "execution_count": null,
   "id": "c523197e-ac33-401a-b781-6b91e3e2bdac",
   "metadata": {},
   "outputs": [],
   "source": []
  },
  {
   "cell_type": "code",
   "execution_count": null,
   "id": "0bd00458-810b-4934-917a-2ccc854ae9dc",
   "metadata": {},
   "outputs": [],
   "source": [
    "topten_stations=hourly_ridership_per_station['station_complex'].value_counts().head(10).index\n",
    "filtered_df = hourly_ridership_per_station[hourly_ridership_per_station['station_complex'].isin(topten_stations)]\n",
    "filtered_df['time'].value_counts()"
   ]
  },
  {
   "cell_type": "code",
   "execution_count": null,
   "id": "b2b5a70c-1e59-4997-b5b8-ba4169d0f8f7",
   "metadata": {},
   "outputs": [],
   "source": [
    "topten_stations=hourly_ridership_per_station['station_complex'].value_counts().head(10).index\n",
    "filtered_df = hourly_ridership_per_station[hourly_ridership_per_station['station_complex'].isin(topten_stations)]\n",
    "filtered_df['time'].value_counts()\n",
    "\n",
    "heatmap_data = filtered_df.pivot_table(\n",
    "    index='station_complex', \n",
    "    columns='time', \n",
    "    values='ridership', \n",
    "    aggfunc='sum'\n",
    ")\n",
    "plt.figure(figsize=(14, 6))\n",
    "sns.heatmap(heatmap_data, cmap=\"YlGnBu\", linewidths=0.5)\n",
    "plt.title(\"Hourly Ridership Heatmap for NYC’s Top 10 Subway Stations\")\n",
    "plt.xlabel('Hour of Day (24h format)', fontsize=14)\n",
    "plt.ylabel(\"Top 10 Stations\")\n",
    "plt.savefig(\"Hourly Ridership Heatmap for NYC’s Top 10 Subway Stations.png\", dpi=300, bbox_inches='tight')\n",
    "plt.show()"
   ]
  },
  {
   "cell_type": "code",
   "execution_count": null,
   "id": "b89079ea-ff61-4880-b3a8-3aeb66f7da57",
   "metadata": {},
   "outputs": [],
   "source": [
    "long_heatmap_data = heatmap_data.reset_index().melt(id_vars='station_complex', var_name='time', value_name='ridership')"
   ]
  },
  {
   "cell_type": "code",
   "execution_count": null,
   "id": "de22b31b-367a-4818-aae5-747e3245d16f",
   "metadata": {},
   "outputs": [],
   "source": [
    "fig = px.density_heatmap(\n",
    "    long_heatmap_data,\n",
    "    x='time',\n",
    "    y='station_complex',\n",
    "    z='ridership',\n",
    "    nbinsx=24,\n",
    "    color_continuous_scale='Viridis',\n",
    "    title='Hourly Ridership Density Heatmap for Top 10 Stations',\n",
    "    labels={'time': 'Hour', 'station_complex': 'Station', 'ridership': 'Ridership'}\n",
    ")\n",
    "\n",
    "fig.update_layout(height=500, width=900)\n",
    "fig.show()"
   ]
  },
  {
   "cell_type": "code",
   "execution_count": null,
   "id": "9917e0d5-c271-4981-a49b-28687bd383b0",
   "metadata": {},
   "outputs": [],
   "source": [
    "import plotly.express as px\n",
    "\n",
    "fig = px.density_mapbox(\n",
    "    hourly_ridership_per_station,\n",
    "    lat='latitude',\n",
    "    lon='longitude',\n",
    "    z='ridership',\n",
    "    radius=15,\n",
    "    center=dict(lat=40.75, lon=-73.97),\n",
    "    zoom=10.5,\n",
    "    mapbox_style=\"carto-positron\",\n",
    "    animation_frame='time',\n",
    "    color_continuous_scale=\"YlOrRd\",\n",
    "    title=\"Subway Ridership Density Map By Hour\"\n",
    ")\n",
    "\n",
    "fig.update_layout(height=600, width=900)\n",
    "fig.show()"
   ]
  },
  {
   "cell_type": "code",
   "execution_count": null,
   "id": "98d9d463-c5aa-4ef1-a323-502abbd75242",
   "metadata": {},
   "outputs": [],
   "source": [
    "fig = px.bar(\n",
    "    hourly_ridership_per_station,\n",
    "    x='time',\n",
    "    y='ridership',\n",
    "    color='borough',\n",
    "    facet_col='borough',\n",
    "    category_orders={'time': list(range(24))},\n",
    "    title='Hourly Subway Ridership by Borough',\n",
    "    labels={'time': 'Hour of Day', 'ridership': 'Total Ridership'}\n",
    ")\n",
    "\n",
    "fig.update_layout(height=500, width=1000)\n",
    "fig.show()"
   ]
  },
  {
   "cell_type": "code",
   "execution_count": null,
   "id": "f0576df6-8603-4fb1-8336-3ed4a44e7c83",
   "metadata": {},
   "outputs": [],
   "source": [
    "top3_by_borough = (\n",
    "    hourly_ridership_per_station\n",
    "    .groupby(['borough', 'station_complex'])['ridership']\n",
    "    .sum()\n",
    "    .reset_index()\n",
    "    .sort_values(['borough', 'ridership'], ascending=[False, False])\n",
    "    .groupby('borough')\n",
    "    .head(3)\n",
    ")\n",
    "\n",
    "fig = px.bar(\n",
    "    top3_by_borough,\n",
    "    x='ridership',\n",
    "    y='station_complex',\n",
    "    orientation='h',\n",
    "    color='borough',\n",
    "    title='Top 3 Most Visited Subway Stations in Each NYC Borough (2022)',\n",
    "    labels={'station_complex': 'Station', 'ridership': 'Total Ridership'}\n",
    ")\n",
    "\n",
    "fig.update_layout(xaxis_tickangle=-45, height=600, width=1100)\n",
    "fig.show()"
   ]
  },
  {
   "cell_type": "code",
   "execution_count": null,
   "id": "2d50b550-a272-4968-92bc-aa41922f7e28",
   "metadata": {},
   "outputs": [],
   "source": [
    "fig = px.line(\n",
    "    dfmonth,  \n",
    "    x='month',\n",
    "    y='ridership',\n",
    "    color='station_complex',\n",
    "    line_group='station_complex',\n",
    "    markers=True,\n",
    "    title='Monthly Ridership Trends for Top NYC Subway Stations (2022)',\n",
    "    labels={'month': 'Month', 'ridership': 'Monthly Total Ridership','station_complex': 'Subway Station'},\n",
    ")\n",
    "\n",
    "fig.update_layout(height=600, width=1100,margin=dict(l=40, r=40, t=60, b=40))\n",
    "fig.show()"
   ]
  },
  {
   "cell_type": "code",
   "execution_count": null,
   "id": "7a9441c8-bbaf-4127-95bc-a5b83ed3ad1c",
   "metadata": {},
   "outputs": [],
   "source": [
    "df2022['day']=df2022['date'].dt.day_name()\n",
    "df2022['month']=df2022['date'].dt.month_name()"
   ]
  },
  {
   "cell_type": "code",
   "execution_count": null,
   "id": "ebc1d677-88dc-41c9-9940-688b995b8d17",
   "metadata": {},
   "outputs": [],
   "source": [
    "dfday=df2022.groupby(['day','station_complex','borough','date','month'])['ridership'].sum()\n",
    "dfday = dfday.reset_index()\n",
    "dfday.head(5)"
   ]
  },
  {
   "cell_type": "code",
   "execution_count": null,
   "id": "3033ef32-54e0-4fe4-8c8a-67a7b9806ebc",
   "metadata": {},
   "outputs": [],
   "source": [
    "daily_ridership = dfday.groupby('date')['ridership'].mean().reset_index()\n",
    "\n",
    "fig=px.line(\n",
    "    daily_ridership,\n",
    "    x='date',\n",
    "    y='ridership',\n",
    "    title='Daily Subway Ridership Over Time',\n",
    "    labels={'date':'Date','ridership':'Total Ridership'}\n",
    ")\n",
    "\n",
    "fig.update_layout(height=500, width=900)\n",
    "fig.show()\n"
   ]
  },
  {
   "cell_type": "code",
   "execution_count": null,
   "id": "90f94605-a76d-4adc-ad8d-9b8d2113f17e",
   "metadata": {},
   "outputs": [],
   "source": [
    "weekday_order = ['Monday', 'Tuesday', 'Wednesday', 'Thursday', 'Friday', 'Saturday', 'Sunday']\n",
    "daily_ridership_per_day=dfday.groupby('day')['ridership'].sum().reset_index()\n",
    "daily_ridership_per_day['day'] = pd.Categorical(daily_ridership_per_day['day'], categories=weekday_order, ordered=True)\n",
    "daily_ridership_per_day = daily_ridership_per_day.sort_values('day')\n",
    "fig=px.line(\n",
    "    daily_ridership_per_day,\n",
    "    x='day',\n",
    "    y='ridership',\n",
    "    title='Total NYC Subway Ridership by Day of the Week (2022)',\n",
    "    labels={'day':'Day','ridership':'Total Annual Ridership'}\n",
    ")\n",
    "\n",
    "fig.update_layout(height=500, width=900)\n",
    "fig.show()"
   ]
  },
  {
   "cell_type": "code",
   "execution_count": null,
   "id": "58a03354-e05e-4e02-a420-9b9f06870626",
   "metadata": {},
   "outputs": [],
   "source": [
    "daily_ridership_per_day2=dfday.groupby('day')['ridership'].sum().reset_index()\n",
    "fig=px.box(\n",
    "    dfday,\n",
    "    x='day',\n",
    "    y='ridership',\n",
    "    title='Daily Subway Ridership BoxPlot',\n",
    "    labels={'date':'Date','ridership':'Total Ridership'}\n",
    ")\n",
    "fig.update_layout(height=500, width=900)\n",
    "fig.show()"
   ]
  },
  {
   "cell_type": "code",
   "execution_count": null,
   "id": "c05f4ced-12ab-49f6-94ab-b573e6d3d7ea",
   "metadata": {},
   "outputs": [],
   "source": [
    "weekday_order = ['Monday', 'Tuesday', 'Wednesday', 'Thursday', 'Friday', 'Saturday', 'Sunday']\n",
    "daily_ridership_per_day3=dfday.groupby('day')['ridership'].mean().reset_index()\n",
    "daily_ridership_per_day3['day'] = pd.Categorical(daily_ridership_per_day3['day'], categories=weekday_order, ordered=True)\n",
    "daily_ridership_per_day3 = daily_ridership_per_day3.sort_values('day')\n",
    "fig=px.bar(\n",
    "    daily_ridership_per_day3,\n",
    "    x='day',\n",
    "    y='ridership',\n",
    "    title='Average Daily Subway Ridership by Day of Week',\n",
    "    labels={'day':'Day','ridership':'Average Ridership'}\n",
    ")\n",
    "fig.update_layout(height=500, width=900)\n",
    "fig.show()"
   ]
  },
  {
   "cell_type": "code",
   "execution_count": null,
   "id": "53b83b86-a10f-47fb-ac84-0201100b3202",
   "metadata": {},
   "outputs": [],
   "source": [
    "dftime=df2022.groupby(['day','station_complex','borough','date','month','time'])['ridership'].sum()\n",
    "dftime = dftime.reset_index()"
   ]
  },
  {
   "cell_type": "code",
   "execution_count": null,
   "id": "f31ba231-04fd-41b7-b193-7c9ccb8ae76a",
   "metadata": {},
   "outputs": [],
   "source": [
    "fig = px.line(\n",
    "    dftime,\n",
    "    x='time',\n",
    "    y='ridership',\n",
    "    color='day',\n",
    "    animation_frame='date',\n",
    "    title='Hourly Subway Ridership by Day with Date Slider',\n",
    "    labels={'time': 'Hour of Day', 'ridership': 'Total Ridership'}\n",
    ")\n",
    "\n",
    "fig.update_layout(\n",
    "    height=500,\n",
    "    width=900,\n",
    "    xaxis=dict(tickmode='linear'),\n",
    "    transition={'duration': 500}\n",
    ")\n",
    "\n",
    "fig.show()"
   ]
  },
  {
   "cell_type": "code",
   "execution_count": null,
   "id": "a8e8d749-9ef7-4563-a8ca-95f7efd71674",
   "metadata": {},
   "outputs": [],
   "source": []
  },
  {
   "cell_type": "code",
   "execution_count": null,
   "id": "583f8155-1cb9-4c03-ba9c-2b071f215034",
   "metadata": {},
   "outputs": [],
   "source": [
    "manhattantotalnum.sum()\n",
    "brooklynTotal=dfyear[dfyear['borough']=='Brooklyn']['ridership']"
   ]
  },
  {
   "cell_type": "code",
   "execution_count": null,
   "id": "2966a1fe-4001-4972-8047-42c76345fa81",
   "metadata": {},
   "outputs": [],
   "source": [
    "hourly_avg"
   ]
  },
  {
   "cell_type": "code",
   "execution_count": null,
   "id": "7af1b127-ade8-4fa3-80c6-9185304f3c7b",
   "metadata": {},
   "outputs": [],
   "source": [
    "hourly_avg_day"
   ]
  },
  {
   "cell_type": "code",
   "execution_count": null,
   "id": "fb491b58-bd5a-460c-8283-cb0ec374a323",
   "metadata": {},
   "outputs": [],
   "source": [
    "queenTotal=dfyear[dfyear['borough']=='Queens']['ridership']\n",
    "queenTotal.sum()"
   ]
  },
  {
   "cell_type": "code",
   "execution_count": null,
   "id": "3f4fa90f-49d0-40d3-9a19-f9b16cbb123e",
   "metadata": {},
   "outputs": [],
   "source": [
    "manhattanDf=dfyear[dfyear['borough']=='Manhattan']\n",
    "queensDf=dfyear[dfyear['borough']=='Queens']\n",
    "brooklynDf=dfyear[dfyear['borough']=='Brooklyn']\n",
    "bronxDf=dfyear[dfyear['borough']=='Bronx']"
   ]
  },
  {
   "cell_type": "code",
   "execution_count": null,
   "id": "cfb98019-1195-472d-beed-b2d769bc007e",
   "metadata": {},
   "outputs": [],
   "source": [
    "manhattanDf.sort_values(by='ridership',ascending=False)[:5]"
   ]
  },
  {
   "cell_type": "code",
   "execution_count": null,
   "id": "bcc110b5-121e-44e0-8708-2a7e2ed3675c",
   "metadata": {},
   "outputs": [],
   "source": [
    "queensDf.sort_values(by='ridership',ascending=False)[:5]"
   ]
  },
  {
   "cell_type": "code",
   "execution_count": null,
   "id": "a8eacd30-69c7-462e-afb5-36163be6ee99",
   "metadata": {},
   "outputs": [],
   "source": [
    "brooklynDf.sort_values(by='ridership',ascending=False)[:5]"
   ]
  },
  {
   "cell_type": "code",
   "execution_count": null,
   "id": "352fe97c-7ffc-4ad3-a3a7-2e408e31e8ce",
   "metadata": {},
   "outputs": [],
   "source": [
    "bronxDf.sort_values(by='ridership',ascending=False)[:5]"
   ]
  },
  {
   "cell_type": "code",
   "execution_count": null,
   "id": "49e63203-b408-45b3-841a-7b5c3707c9e2",
   "metadata": {},
   "outputs": [],
   "source": [
    "bronxDf['ridership'].sum()"
   ]
  },
  {
   "cell_type": "code",
   "execution_count": null,
   "id": "c0662ceb-aca4-49b5-bce9-8e12b4c7b71f",
   "metadata": {},
   "outputs": [],
   "source": [
    "bronxDf.sort_values?"
   ]
  },
  {
   "cell_type": "code",
   "execution_count": null,
   "id": "ab7a6d65-fb21-41bb-9dc2-cb42c447abba",
   "metadata": {},
   "outputs": [],
   "source": [
    "manhattanDf\n",
    "queensDf\n",
    "brooklynDf\n",
    "bronxDf"
   ]
  },
  {
   "cell_type": "code",
   "execution_count": null,
   "id": "69feece9-8fac-430f-8cb0-252f71059933",
   "metadata": {},
   "outputs": [],
   "source": [
    "bronxDf['station_complex'].nunique()"
   ]
  },
  {
   "cell_type": "code",
   "execution_count": null,
   "id": "d2069da6-39da-4da2-aaed-c2cb142b786c",
   "metadata": {},
   "outputs": [],
   "source": [
    "manhattanDf['station_complex'].nunique()"
   ]
  },
  {
   "cell_type": "code",
   "execution_count": null,
   "id": "63fc3a2e-5f88-4182-bbde-d37e449ca263",
   "metadata": {},
   "outputs": [],
   "source": [
    "queensDf['station_complex'].nunique()"
   ]
  },
  {
   "cell_type": "code",
   "execution_count": null,
   "id": "2d1dbb3a-55df-4c77-bce5-6a6fd5f8917c",
   "metadata": {},
   "outputs": [],
   "source": [
    "brooklynDf['station_complex'].nunique()"
   ]
  },
  {
   "cell_type": "code",
   "execution_count": null,
   "id": "24f1f82f-cfdb-4240-8eec-94fcf15efeba",
   "metadata": {},
   "outputs": [],
   "source": [
    "manhattanDf['station_complex'].duplicated().sum()"
   ]
  },
  {
   "cell_type": "code",
   "execution_count": null,
   "id": "73b9bfd0-520d-4475-818c-616f88ea906a",
   "metadata": {},
   "outputs": [],
   "source": [
    "brooklynDf['station_complex'].duplicated().sum()"
   ]
  },
  {
   "cell_type": "code",
   "execution_count": null,
   "id": "d7664d59-56a7-4549-bb7b-2c67d972d2e9",
   "metadata": {},
   "outputs": [],
   "source": [
    "queensDf['station_complex'].duplicated().sum()"
   ]
  },
  {
   "cell_type": "code",
   "execution_count": null,
   "id": "b622b69e-7666-47ca-97f1-ad8ccacee701",
   "metadata": {},
   "outputs": [],
   "source": [
    "bronxDf['station_complex'].duplicated().sum()"
   ]
  },
  {
   "cell_type": "code",
   "execution_count": null,
   "id": "fbc0d0c9-a1f7-4b64-b959-db5766232d2b",
   "metadata": {},
   "outputs": [],
   "source": [
    "station_df=df[['station_complex','borough']]\n",
    "station_df"
   ]
  },
  {
   "cell_type": "code",
   "execution_count": null,
   "id": "17b9abbf-ce77-4058-ac8c-623520310c3e",
   "metadata": {},
   "outputs": [],
   "source": [
    "station_df.groupby('borough')['station_complex'].sum().reset_index()"
   ]
  },
  {
   "cell_type": "code",
   "execution_count": null,
   "id": "e2ee2dab-0633-454e-94ce-f4ba5f1b2f21",
   "metadata": {},
   "outputs": [],
   "source": [
    "station_df[station_df['borough']=='Manhattan'].nunique()"
   ]
  },
  {
   "cell_type": "code",
   "execution_count": null,
   "id": "d7c99ad2-4413-426b-b4fb-ff4dc23ca821",
   "metadata": {},
   "outputs": [],
   "source": [
    "station_df[station_df['borough']=='Queens'].nunique()"
   ]
  },
  {
   "cell_type": "code",
   "execution_count": null,
   "id": "3b729577-2e82-489c-997c-6b46a66a9d3b",
   "metadata": {},
   "outputs": [],
   "source": [
    "dfyear[dfyear['borough']=='Manhattan']['station_complex'].value_counts()"
   ]
  },
  {
   "cell_type": "code",
   "execution_count": null,
   "id": "f8316c6b-d739-4ccf-a9fb-c4c8246bc3a5",
   "metadata": {},
   "outputs": [],
   "source": [
    "nyc_subway=pd.read_csv('MTA_Subway_Stations_and_Complexes_20250508.csv')\n",
    "nyc_subway.info()"
   ]
  },
  {
   "cell_type": "code",
   "execution_count": null,
   "id": "82f68569-d2f8-42d7-b020-942120e2c90e",
   "metadata": {},
   "outputs": [],
   "source": [
    "mapping={'Bk':'Brooklyn','M': 'Manhattan','Bx':'Bronx','Q':'Queens'}\n",
    "nyc_subway['Borough']=nyc_subway['Borough'].replace(mapping)\n",
    "nyc_subway"
   ]
  },
  {
   "cell_type": "code",
   "execution_count": null,
   "id": "6a3b1ea0-a0f5-487c-83ba-3f1c20e72621",
   "metadata": {},
   "outputs": [],
   "source": [
    "nyc_subway['Borough'].value_counts()"
   ]
  },
  {
   "cell_type": "code",
   "execution_count": null,
   "id": "0dc767e9-31c7-44bc-8e12-667c872f93b0",
   "metadata": {},
   "outputs": [],
   "source": [
    "bronxDf"
   ]
  },
  {
   "cell_type": "code",
   "execution_count": null,
   "id": "11274a3f-6cfe-4c88-ae2d-46dc70d96c83",
   "metadata": {},
   "outputs": [],
   "source": [
    "nyc_subway[nyc_subway['Borough']=='Bronx']['Station IDs']"
   ]
  },
  {
   "cell_type": "code",
   "execution_count": null,
   "id": "6f749801-a965-41ad-b49d-f0c6eb45d6a1",
   "metadata": {},
   "outputs": [],
   "source": [
    "nyc_subway[(nyc_subway['Borough']=='Manhattan')&(nyc_subway['Complex ID']==623)]"
   ]
  },
  {
   "cell_type": "code",
   "execution_count": null,
   "id": "f03fe08c-e47b-44cc-9ec6-7b9d3822132e",
   "metadata": {},
   "outputs": [],
   "source": [
    "manhattanDf['station_complex_id'].value_counts()"
   ]
  },
  {
   "cell_type": "code",
   "execution_count": null,
   "id": "ebf46054-5658-46bf-a7f9-b1675f4a4503",
   "metadata": {},
   "outputs": [],
   "source": [
    "subset=manhattanDf[manhattanDf['station_complex_id']=='628']\n",
    "subset.nunique()"
   ]
  },
  {
   "cell_type": "code",
   "execution_count": null,
   "id": "04ccecaa-753e-468a-b21e-4aa156739268",
   "metadata": {},
   "outputs": [],
   "source": [
    "subset_s623=manhattanDf[manhattanDf['station_complex_id']=='623']\n",
    "subset_s623.nunique()"
   ]
  },
  {
   "cell_type": "code",
   "execution_count": null,
   "id": "718f3ffb-4fed-43cb-bd07-1af75133785f",
   "metadata": {},
   "outputs": [],
   "source": [
    "nyc_subway[(nyc_subway['Borough']=='Manhattan')&(nyc_subway['Stop Name']=='Canal St')]"
   ]
  },
  {
   "cell_type": "code",
   "execution_count": null,
   "id": "fb901987-b379-4170-952a-df77c6b6e39a",
   "metadata": {},
   "outputs": [],
   "source": [
    "manhattanDf[manhattanDf['station_complex']=='Fulton St (A,C,J,Z,2,3,4,5)']"
   ]
  },
  {
   "cell_type": "code",
   "execution_count": null,
   "id": "89666d45-9e4c-465a-a41f-771519e9e714",
   "metadata": {},
   "outputs": [],
   "source": []
  },
  {
   "cell_type": "code",
   "execution_count": null,
   "id": "87d4cdf5-a8c4-449b-9a69-f4f9c2ad27c4",
   "metadata": {},
   "outputs": [],
   "source": [
    "manhattanDf[manhattanDf['station_complex']=='Canal St (J,N,Q,R,W,Z,6)']"
   ]
  },
  {
   "cell_type": "code",
   "execution_count": null,
   "id": "df19dc8b-38b2-4427-9408-16821cf204e2",
   "metadata": {},
   "outputs": [],
   "source": [
    "manhattanDf['station_complex'].value_counts()\n",
    "subset['stop_name'].nunique()"
   ]
  },
  {
   "cell_type": "code",
   "execution_count": null,
   "id": "6ac55bf6-307f-4d2c-ba7a-43ccf685263e",
   "metadata": {},
   "outputs": [],
   "source": [
    "station_df.groupby('borough')['station_complex'].nunique()"
   ]
  },
  {
   "cell_type": "code",
   "execution_count": null,
   "id": "c092ff32-564c-4e07-b502-d26404704e6f",
   "metadata": {},
   "outputs": [],
   "source": [
    "nyc_demographics=pd.read_csv('nycdemog.csv')\n",
    "nyc_demographics.info()\n",
    "nyc_demographics.rename(columns={'Gender':'Borough'},inplace=True)\n",
    "nyc_demographics.info()"
   ]
  },
  {
   "cell_type": "code",
   "execution_count": null,
   "id": "cfb9e0a0-6167-44b1-8660-d6b04ac8c4bd",
   "metadata": {},
   "outputs": [],
   "source": [
    "#nyc_demographics=nyc_demographics.set_index('Borough').T\n",
    "#nyc_demographics=nyc_demographics.iloc[1:]"
   ]
  },
  {
   "cell_type": "code",
   "execution_count": null,
   "id": "7606829a-8a21-41f7-a4ae-a63c008e45a5",
   "metadata": {},
   "outputs": [],
   "source": [
    "nyc_demographics[\"Total\"] = nyc_demographics[\"Male\"] + nyc_demographics[\"Female\"]"
   ]
  },
  {
   "cell_type": "code",
   "execution_count": null,
   "id": "727162e2-68a8-4daf-acad-8eed3af8edb0",
   "metadata": {},
   "outputs": [],
   "source": [
    "plt.pie(\n",
    "    nyc_demographics[\"Total\"],\n",
    "    autopct=\"%1.1f%%\",\n",
    "    startangle=140\n",
    ")\n",
    "plt.legend(nyc_demographics.index, title=\"Boroughs\", loc=\"center left\", bbox_to_anchor=(1, 0, 0.5, 1))\n",
    "plt.title('NYC Demographics');"
   ]
  },
  {
   "cell_type": "code",
   "execution_count": null,
   "id": "feec83d7-33fe-4059-bad0-e36e370fca49",
   "metadata": {},
   "outputs": [],
   "source": [
    "nyc_demographics[[\"Male\", \"Female\"]][:4].plot(\n",
    "    kind=\"bar\", \n",
    "    figsize=(10, 6), \n",
    "    title=\"NYC Population by Gender and Borough\"\n",
    ")\n",
    "plt.xlabel(\"NYC Boroughs\")\n",
    "plt.ylabel(\"Population Count (in Millions)\")\n",
    "plt.xticks(rotation=45)\n",
    "plt.legend(title=\"Gender\")\n",
    "plt.tight_layout()\n",
    "plt.savefig(\"NYC Population by Gender and Borough\",dpi=300,bbox_inches='tight')\n",
    "plt.show()"
   ]
  },
  {
   "cell_type": "code",
   "execution_count": null,
   "id": "26e85c88-1e1b-4f7e-9bf6-090b56fc7868",
   "metadata": {},
   "outputs": [],
   "source": [
    "plt.pie(\n",
    "    nyc_demographics[[\"Male\", \"Female\"]].sum(), \n",
    "    labels=[\"Male\", \"Female\"], \n",
    "    autopct=\"%1.1f%%\", \n",
    "    startangle=140\n",
    ")\n",
    "plt.title(\"NYC Population Distribution by Gender\")\n",
    "plt.savefig(\"NYC Population Distribution by Gender\",dpi=300,bbox_inches='tight')\n",
    "plt.show()\n"
   ]
  },
  {
   "cell_type": "code",
   "execution_count": null,
   "id": "09082d8e-bf7b-4fec-a738-d5793b949ea8",
   "metadata": {},
   "outputs": [],
   "source": [
    "top_ten_station_names = df2022.groupby('station_complex')['ridership'].sum().nlargest(10).index"
   ]
  },
  {
   "cell_type": "code",
   "execution_count": null,
   "id": "afcc68a0-9ac5-4496-9f9f-1fef73731331",
   "metadata": {},
   "outputs": [],
   "source": [
    "top_ten_station_names"
   ]
  },
  {
   "cell_type": "code",
   "execution_count": null,
   "id": "b864e4a4-38c2-414b-9fbc-545a74ce723d",
   "metadata": {},
   "outputs": [],
   "source": [
    "boroughDF=pd.DataFrame(borough_total_df).reset_index()[['borough', 'ridership']].set_index('borough')['ridership']\n"
   ]
  },
  {
   "cell_type": "code",
   "execution_count": null,
   "id": "edc78580-091e-4d2c-981b-8c1bc69a5082",
   "metadata": {},
   "outputs": [],
   "source": [
    "\n",
    "boroughDF[:4].reset_index().sort_values(by='ridership',ascending=False)"
   ]
  },
  {
   "cell_type": "code",
   "execution_count": null,
   "id": "ede56632-96a7-40be-8efe-0ad39a9037ad",
   "metadata": {},
   "outputs": [],
   "source": [
    "daily_ridership_heatmap = dfday.groupby('day')['ridership'].mean().reset_index()"
   ]
  },
  {
   "cell_type": "code",
   "execution_count": null,
   "id": "51f7915d-8f3f-40a7-ab02-f42da3b99c60",
   "metadata": {},
   "outputs": [],
   "source": [
    "daily_ridership_heatmap=daily_ridership_heatmap.set_index('day').T"
   ]
  },
  {
   "cell_type": "code",
   "execution_count": null,
   "id": "e3e33875-ec1d-4d56-8c03-3ebe511fae36",
   "metadata": {},
   "outputs": [],
   "source": [
    "daily_ridership_heatmap=daily_ridership_heatmap[weekday_order]"
   ]
  },
  {
   "cell_type": "code",
   "execution_count": null,
   "id": "df06c028-2eac-4abd-bfb0-4df7a1cea31b",
   "metadata": {},
   "outputs": [],
   "source": []
  },
  {
   "cell_type": "code",
   "execution_count": null,
   "id": "b025f36c-4b3b-43f8-944c-5d347051b960",
   "metadata": {},
   "outputs": [],
   "source": [
    "fig = px.imshow(\n",
    "    daily_ridership_heatmap,\n",
    "    labels={\"x\": \"Day of Week\", \"value\": \"Avg. Ridership\"},\n",
    "    title=\"Average Daily Subway Ridership by Day of Week\"\n",
    ")\n",
    "\n",
    "fig.update_layout(height=500, width=900)\n",
    "fig.show()"
   ]
  },
  {
   "cell_type": "code",
   "execution_count": null,
   "id": "f6ae57ea-557b-4de6-85f6-40ee80804c73",
   "metadata": {},
   "outputs": [],
   "source": []
  },
  {
   "cell_type": "code",
   "execution_count": null,
   "id": "35271dc2-8581-4dc3-9fea-2b0bbe3c5b6e",
   "metadata": {},
   "outputs": [],
   "source": [
    "import sys\n",
    "\n",
    "print(\"Python version:\", sys.version)\n",
    "print(\"Pandas version:\", pd.__version__)\n",
    "print(\"NumPy version:\", np.__version__)"
   ]
  },
  {
   "cell_type": "code",
   "execution_count": null,
   "id": "fd6318b1-83d5-474e-9c0f-007654cb818b",
   "metadata": {},
   "outputs": [],
   "source": [
    "df.groupby('borough')['station_complex'].count()"
   ]
  },
  {
   "cell_type": "code",
   "execution_count": null,
   "id": "7c6ec032-2e4d-457d-a08b-73180db676ac",
   "metadata": {},
   "outputs": [],
   "source": [
    "df.info()\n",
    "station_df.info()"
   ]
  },
  {
   "cell_type": "code",
   "execution_count": null,
   "id": "0f2d3f08-5170-4d3c-8456-1c45ab4b9e27",
   "metadata": {},
   "outputs": [],
   "source": [
    "station_df\n",
    "\n",
    "plt.pie(\n",
    "    station_df[['station_complex','borough']].sum(), \n",
    "    labels=['borough'], \n",
    "    autopct=\"%1.1f%%\", \n",
    "    startangle=140\n",
    ")\n",
    "plt.title(\"NYC Population Distribution by Gender\")\n",
    "#plt.savefig(\"NYC Population Distribution by Gender\",dpi=300,bbox_inches='tight')\n",
    "plt.show()\n"
   ]
  },
  {
   "cell_type": "code",
   "execution_count": null,
   "id": "3bf08e30-2db8-4d94-8e91-0089dab23f35",
   "metadata": {},
   "outputs": [],
   "source": [
    "plt.pie?"
   ]
  },
  {
   "cell_type": "code",
   "execution_count": null,
   "id": "6e41ac35-69b1-4c22-86c2-f5bbede452b4",
   "metadata": {},
   "outputs": [],
   "source": [
    "station_df"
   ]
  },
  {
   "cell_type": "code",
   "execution_count": null,
   "id": "6d688156-0d0e-4eed-aa41-193369a00880",
   "metadata": {},
   "outputs": [],
   "source": [
    "station_complex_out=dfday.groupby(['borough','station_complex'])['ridership'].sum().reset_index()\n",
    "fig=px.box(\n",
    "    station_complex_out,\n",
    "    x='borough',\n",
    "    y='ridership',\n",
    "    hover_name='station_complex',\n",
    "    title='Yearly Subway Ridership BoxPlot',\n",
    "    labels={'station_complex':'Station Name','ridership':'Total Ridership'}\n",
    ")\n",
    "fig.update_layout(height=500, width=900)\n",
    "st.subheader(\"Yearly Subway Ridership BoxPlot\")\n",
    "st.plotly_chart(fig_box, use_container_width=True)"
   ]
  },
  {
   "cell_type": "code",
   "execution_count": null,
   "id": "c57d7111-a14e-491e-a789-a907896607d3",
   "metadata": {},
   "outputs": [],
   "source": [
    "station_complex_out.groupby('borough')"
   ]
  },
  {
   "cell_type": "code",
   "execution_count": null,
   "id": "9c525985-c088-4ce6-a371-828d31225f13",
   "metadata": {},
   "outputs": [],
   "source": [
    "difference=pd.read_excel('borough_ridership_comparison.xlsx')\n",
    "difference"
   ]
  },
  {
   "cell_type": "code",
   "execution_count": null,
   "id": "6236cc08-04a8-4e06-9462-a1be5f57ef91",
   "metadata": {},
   "outputs": [],
   "source": []
  }
 ],
 "metadata": {
  "kernelspec": {
   "display_name": "Python 3 (ipykernel)",
   "language": "python",
   "name": "python3"
  },
  "language_info": {
   "codemirror_mode": {
    "name": "ipython",
    "version": 3
   },
   "file_extension": ".py",
   "mimetype": "text/x-python",
   "name": "python",
   "nbconvert_exporter": "python",
   "pygments_lexer": "ipython3",
   "version": "3.12.7"
  }
 },
 "nbformat": 4,
 "nbformat_minor": 5
}
