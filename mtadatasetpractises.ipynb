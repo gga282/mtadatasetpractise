{
 "cells": [
  {
   "cell_type": "code",
   "execution_count": 1,
   "id": "0055a60e-f5eb-4d42-a37d-2c51e3d92c4c",
   "metadata": {},
   "outputs": [
    {
     "name": "stdout",
     "output_type": "stream",
     "text": [
      "<class 'pandas.core.frame.DataFrame'>\n",
      "RangeIndex: 1000000 entries, 0 to 999999\n",
      "Data columns (total 12 columns):\n",
      " #   Column               Non-Null Count    Dtype  \n",
      "---  ------               --------------    -----  \n",
      " 0   transit_timestamp    1000000 non-null  object \n",
      " 1   transit_mode         1000000 non-null  object \n",
      " 2   station_complex_id   1000000 non-null  object \n",
      " 3   station_complex      1000000 non-null  object \n",
      " 4   borough              1000000 non-null  object \n",
      " 5   payment_method       1000000 non-null  object \n",
      " 6   fare_class_category  1000000 non-null  object \n",
      " 7   ridership            1000000 non-null  float64\n",
      " 8   transfers            1000000 non-null  float64\n",
      " 9   latitude             1000000 non-null  float64\n",
      " 10  longitude            1000000 non-null  float64\n",
      " 11  georeference         1000000 non-null  object \n",
      "dtypes: float64(4), object(8)\n",
      "memory usage: 91.6+ MB\n"
     ]
    }
   ],
   "source": [
    "import numpy as np\n",
    "import pandas as pd\n",
    "\n",
    "df=pd.read_csv('dataset.csv')\n",
    "df.info()"
   ]
  },
  {
   "cell_type": "code",
   "execution_count": 2,
   "id": "639aab31-3f2a-4b27-858c-003c0019a249",
   "metadata": {},
   "outputs": [
    {
     "data": {
      "text/plain": [
       "transit_timestamp      0\n",
       "transit_mode           0\n",
       "station_complex_id     0\n",
       "station_complex        0\n",
       "borough                0\n",
       "payment_method         0\n",
       "fare_class_category    0\n",
       "ridership              0\n",
       "transfers              0\n",
       "latitude               0\n",
       "longitude              0\n",
       "georeference           0\n",
       "dtype: int64"
      ]
     },
     "execution_count": 2,
     "metadata": {},
     "output_type": "execute_result"
    }
   ],
   "source": [
    "df.isnull().sum()"
   ]
  },
  {
   "cell_type": "code",
   "execution_count": 3,
   "id": "762bb3d1-3cd3-4f78-a1e4-41987f2bde08",
   "metadata": {},
   "outputs": [
    {
     "data": {
      "text/html": [
       "<div>\n",
       "<style scoped>\n",
       "    .dataframe tbody tr th:only-of-type {\n",
       "        vertical-align: middle;\n",
       "    }\n",
       "\n",
       "    .dataframe tbody tr th {\n",
       "        vertical-align: top;\n",
       "    }\n",
       "\n",
       "    .dataframe thead th {\n",
       "        text-align: right;\n",
       "    }\n",
       "</style>\n",
       "<table border=\"1\" class=\"dataframe\">\n",
       "  <thead>\n",
       "    <tr style=\"text-align: right;\">\n",
       "      <th></th>\n",
       "      <th>transit_timestamp</th>\n",
       "      <th>transit_mode</th>\n",
       "      <th>station_complex_id</th>\n",
       "      <th>station_complex</th>\n",
       "      <th>borough</th>\n",
       "      <th>payment_method</th>\n",
       "      <th>fare_class_category</th>\n",
       "      <th>ridership</th>\n",
       "      <th>transfers</th>\n",
       "      <th>latitude</th>\n",
       "      <th>longitude</th>\n",
       "      <th>georeference</th>\n",
       "    </tr>\n",
       "  </thead>\n",
       "  <tbody>\n",
       "    <tr>\n",
       "      <th>999995</th>\n",
       "      <td>2024-07-05T15:00:00.000</td>\n",
       "      <td>subway</td>\n",
       "      <td>450</td>\n",
       "      <td>103 St-Corona Plaza (7)</td>\n",
       "      <td>Queens</td>\n",
       "      <td>metrocard</td>\n",
       "      <td>Metrocard - Other</td>\n",
       "      <td>11.0</td>\n",
       "      <td>0.0</td>\n",
       "      <td>40.749866</td>\n",
       "      <td>-73.86270</td>\n",
       "      <td>POINT (-73.8627 40.749866)</td>\n",
       "    </tr>\n",
       "    <tr>\n",
       "      <th>999996</th>\n",
       "      <td>2024-07-05T20:00:00.000</td>\n",
       "      <td>subway</td>\n",
       "      <td>307</td>\n",
       "      <td>116 St-Columbia University (1)</td>\n",
       "      <td>Manhattan</td>\n",
       "      <td>metrocard</td>\n",
       "      <td>Metrocard - Other</td>\n",
       "      <td>2.0</td>\n",
       "      <td>0.0</td>\n",
       "      <td>40.807720</td>\n",
       "      <td>-73.96411</td>\n",
       "      <td>POINT (-73.96411 40.80772)</td>\n",
       "    </tr>\n",
       "    <tr>\n",
       "      <th>999997</th>\n",
       "      <td>2024-07-05T22:00:00.000</td>\n",
       "      <td>subway</td>\n",
       "      <td>606</td>\n",
       "      <td>Court Sq (E,G,M,7)</td>\n",
       "      <td>Queens</td>\n",
       "      <td>metrocard</td>\n",
       "      <td>Metrocard - Fair Fare</td>\n",
       "      <td>13.0</td>\n",
       "      <td>1.0</td>\n",
       "      <td>40.747845</td>\n",
       "      <td>-73.94383</td>\n",
       "      <td>POINT (-73.94383 40.747845)</td>\n",
       "    </tr>\n",
       "    <tr>\n",
       "      <th>999998</th>\n",
       "      <td>2024-07-05T03:00:00.000</td>\n",
       "      <td>subway</td>\n",
       "      <td>254</td>\n",
       "      <td>Jamaica-179 St (F)</td>\n",
       "      <td>Queens</td>\n",
       "      <td>omny</td>\n",
       "      <td>OMNY - Full Fare</td>\n",
       "      <td>14.0</td>\n",
       "      <td>7.0</td>\n",
       "      <td>40.712646</td>\n",
       "      <td>-73.78381</td>\n",
       "      <td>POINT (-73.78381 40.712646)</td>\n",
       "    </tr>\n",
       "    <tr>\n",
       "      <th>999999</th>\n",
       "      <td>2024-07-05T04:00:00.000</td>\n",
       "      <td>subway</td>\n",
       "      <td>136</td>\n",
       "      <td>New Lots Av (L)</td>\n",
       "      <td>Brooklyn</td>\n",
       "      <td>metrocard</td>\n",
       "      <td>Metrocard - Fair Fare</td>\n",
       "      <td>3.0</td>\n",
       "      <td>1.0</td>\n",
       "      <td>40.658733</td>\n",
       "      <td>-73.89923</td>\n",
       "      <td>POINT (-73.89923 40.658733)</td>\n",
       "    </tr>\n",
       "  </tbody>\n",
       "</table>\n",
       "</div>"
      ],
      "text/plain": [
       "              transit_timestamp transit_mode station_complex_id  \\\n",
       "999995  2024-07-05T15:00:00.000       subway                450   \n",
       "999996  2024-07-05T20:00:00.000       subway                307   \n",
       "999997  2024-07-05T22:00:00.000       subway                606   \n",
       "999998  2024-07-05T03:00:00.000       subway                254   \n",
       "999999  2024-07-05T04:00:00.000       subway                136   \n",
       "\n",
       "                       station_complex    borough payment_method  \\\n",
       "999995         103 St-Corona Plaza (7)     Queens      metrocard   \n",
       "999996  116 St-Columbia University (1)  Manhattan      metrocard   \n",
       "999997              Court Sq (E,G,M,7)     Queens      metrocard   \n",
       "999998              Jamaica-179 St (F)     Queens           omny   \n",
       "999999                 New Lots Av (L)   Brooklyn      metrocard   \n",
       "\n",
       "          fare_class_category  ridership  transfers   latitude  longitude  \\\n",
       "999995      Metrocard - Other       11.0        0.0  40.749866  -73.86270   \n",
       "999996      Metrocard - Other        2.0        0.0  40.807720  -73.96411   \n",
       "999997  Metrocard - Fair Fare       13.0        1.0  40.747845  -73.94383   \n",
       "999998       OMNY - Full Fare       14.0        7.0  40.712646  -73.78381   \n",
       "999999  Metrocard - Fair Fare        3.0        1.0  40.658733  -73.89923   \n",
       "\n",
       "                       georeference  \n",
       "999995   POINT (-73.8627 40.749866)  \n",
       "999996   POINT (-73.96411 40.80772)  \n",
       "999997  POINT (-73.94383 40.747845)  \n",
       "999998  POINT (-73.78381 40.712646)  \n",
       "999999  POINT (-73.89923 40.658733)  "
      ]
     },
     "execution_count": 3,
     "metadata": {},
     "output_type": "execute_result"
    }
   ],
   "source": [
    "df.tail(5)"
   ]
  },
  {
   "cell_type": "code",
   "execution_count": 4,
   "id": "8fadae7a-e983-44b8-bd4d-0196a8bfa835",
   "metadata": {},
   "outputs": [
    {
     "data": {
      "text/plain": [
       "transit_mode\n",
       "subway                   992488\n",
       "staten_island_railway      3963\n",
       "tram                       3549\n",
       "Name: count, dtype: int64"
      ]
     },
     "execution_count": 4,
     "metadata": {},
     "output_type": "execute_result"
    }
   ],
   "source": [
    "df['transit_mode'].value_counts()"
   ]
  },
  {
   "cell_type": "code",
   "execution_count": 60,
   "id": "1528057f-159c-4606-84e8-6ce60ce1a295",
   "metadata": {},
   "outputs": [
    {
     "data": {
      "text/plain": [
       "False    1000000\n",
       "Name: count, dtype: int64"
      ]
     },
     "execution_count": 60,
     "metadata": {},
     "output_type": "execute_result"
    }
   ],
   "source": [
    "df.duplicated().value_counts()"
   ]
  },
  {
   "cell_type": "code",
   "execution_count": 5,
   "id": "3bb7b7b0-a486-47de-9760-39067f65728a",
   "metadata": {},
   "outputs": [
    {
     "name": "stdout",
     "output_type": "stream",
     "text": [
      "<class 'pandas.core.frame.DataFrame'>\n",
      "Index: 992488 entries, 0 to 999999\n",
      "Data columns (total 12 columns):\n",
      " #   Column               Non-Null Count   Dtype  \n",
      "---  ------               --------------   -----  \n",
      " 0   transit_timestamp    992488 non-null  object \n",
      " 1   transit_mode         992488 non-null  object \n",
      " 2   station_complex_id   992488 non-null  object \n",
      " 3   station_complex      992488 non-null  object \n",
      " 4   borough              992488 non-null  object \n",
      " 5   payment_method       992488 non-null  object \n",
      " 6   fare_class_category  992488 non-null  object \n",
      " 7   ridership            992488 non-null  float64\n",
      " 8   transfers            992488 non-null  float64\n",
      " 9   latitude             992488 non-null  float64\n",
      " 10  longitude            992488 non-null  float64\n",
      " 11  georeference         992488 non-null  object \n",
      "dtypes: float64(4), object(8)\n",
      "memory usage: 98.4+ MB\n"
     ]
    }
   ],
   "source": [
    "new_df_subway=df[df['transit_mode']=='subway']\n",
    "new_df_subway.head(5)\n",
    "new_df_subway.info()"
   ]
  },
  {
   "cell_type": "code",
   "execution_count": 6,
   "id": "47111fd3-110a-4679-b076-141bff0afd94",
   "metadata": {},
   "outputs": [
    {
     "name": "stderr",
     "output_type": "stream",
     "text": [
      "/var/folders/9h/7mtmy98n0jl_fwz3rzx0_k300000gn/T/ipykernel_5886/109861777.py:1: SettingWithCopyWarning: \n",
      "A value is trying to be set on a copy of a slice from a DataFrame.\n",
      "Try using .loc[row_indexer,col_indexer] = value instead\n",
      "\n",
      "See the caveats in the documentation: https://pandas.pydata.org/pandas-docs/stable/user_guide/indexing.html#returning-a-view-versus-a-copy\n",
      "  new_df_subway['time']=[x.split('T') for x in new_df_subway['transit_timestamp']]\n"
     ]
    }
   ],
   "source": [
    "new_df_subway['time']=[x.split('T') for x in new_df_subway['transit_timestamp']]"
   ]
  },
  {
   "cell_type": "code",
   "execution_count": 7,
   "id": "302c2644-e175-4148-a9ec-d78683457368",
   "metadata": {},
   "outputs": [
    {
     "data": {
      "text/html": [
       "<div>\n",
       "<style scoped>\n",
       "    .dataframe tbody tr th:only-of-type {\n",
       "        vertical-align: middle;\n",
       "    }\n",
       "\n",
       "    .dataframe tbody tr th {\n",
       "        vertical-align: top;\n",
       "    }\n",
       "\n",
       "    .dataframe thead th {\n",
       "        text-align: right;\n",
       "    }\n",
       "</style>\n",
       "<table border=\"1\" class=\"dataframe\">\n",
       "  <thead>\n",
       "    <tr style=\"text-align: right;\">\n",
       "      <th></th>\n",
       "      <th>transit_timestamp</th>\n",
       "      <th>transit_mode</th>\n",
       "      <th>station_complex_id</th>\n",
       "      <th>station_complex</th>\n",
       "      <th>borough</th>\n",
       "      <th>payment_method</th>\n",
       "      <th>fare_class_category</th>\n",
       "      <th>ridership</th>\n",
       "      <th>transfers</th>\n",
       "      <th>latitude</th>\n",
       "      <th>longitude</th>\n",
       "      <th>georeference</th>\n",
       "      <th>time</th>\n",
       "    </tr>\n",
       "  </thead>\n",
       "  <tbody>\n",
       "    <tr>\n",
       "      <th>0</th>\n",
       "      <td>2022-01-28T06:00:00.000</td>\n",
       "      <td>subway</td>\n",
       "      <td>212</td>\n",
       "      <td>Kingsbridge Rd (B,D)</td>\n",
       "      <td>Bronx</td>\n",
       "      <td>metrocard</td>\n",
       "      <td>Metrocard - Students</td>\n",
       "      <td>39.0</td>\n",
       "      <td>1.0</td>\n",
       "      <td>40.866978</td>\n",
       "      <td>-73.893510</td>\n",
       "      <td>POINT (-73.89351 40.866978)</td>\n",
       "      <td>[2022-01-28, 06:00:00.000]</td>\n",
       "    </tr>\n",
       "    <tr>\n",
       "      <th>1</th>\n",
       "      <td>2022-01-28T04:00:00.000</td>\n",
       "      <td>subway</td>\n",
       "      <td>209</td>\n",
       "      <td>Far Rockaway-Mott Av (A)</td>\n",
       "      <td>Queens</td>\n",
       "      <td>metrocard</td>\n",
       "      <td>Metrocard - Unlimited 30-Day</td>\n",
       "      <td>2.0</td>\n",
       "      <td>0.0</td>\n",
       "      <td>40.603996</td>\n",
       "      <td>-73.755400</td>\n",
       "      <td>POINT (-73.7554 40.603996)</td>\n",
       "      <td>[2022-01-28, 04:00:00.000]</td>\n",
       "    </tr>\n",
       "    <tr>\n",
       "      <th>2</th>\n",
       "      <td>2022-01-28T18:00:00.000</td>\n",
       "      <td>subway</td>\n",
       "      <td>167</td>\n",
       "      <td>W 4 St-Wash Sq (A,C,E,B,D,F,M)</td>\n",
       "      <td>Manhattan</td>\n",
       "      <td>metrocard</td>\n",
       "      <td>Metrocard - Unlimited 30-Day</td>\n",
       "      <td>215.0</td>\n",
       "      <td>0.0</td>\n",
       "      <td>40.732338</td>\n",
       "      <td>-74.000496</td>\n",
       "      <td>POINT (-74.000496 40.732338)</td>\n",
       "      <td>[2022-01-28, 18:00:00.000]</td>\n",
       "    </tr>\n",
       "    <tr>\n",
       "      <th>3</th>\n",
       "      <td>2022-01-28T00:00:00.000</td>\n",
       "      <td>subway</td>\n",
       "      <td>20</td>\n",
       "      <td>City Hall (R,W)</td>\n",
       "      <td>Manhattan</td>\n",
       "      <td>omny</td>\n",
       "      <td>OMNY - Full Fare</td>\n",
       "      <td>3.0</td>\n",
       "      <td>0.0</td>\n",
       "      <td>40.713284</td>\n",
       "      <td>-74.006980</td>\n",
       "      <td>POINT (-74.00698 40.713284)</td>\n",
       "      <td>[2022-01-28, 00:00:00.000]</td>\n",
       "    </tr>\n",
       "    <tr>\n",
       "      <th>4</th>\n",
       "      <td>2022-01-28T19:00:00.000</td>\n",
       "      <td>subway</td>\n",
       "      <td>88</td>\n",
       "      <td>Norwood Av (J,Z)</td>\n",
       "      <td>Brooklyn</td>\n",
       "      <td>omny</td>\n",
       "      <td>OMNY - Full Fare</td>\n",
       "      <td>11.0</td>\n",
       "      <td>0.0</td>\n",
       "      <td>40.681410</td>\n",
       "      <td>-73.880035</td>\n",
       "      <td>POINT (-73.880035 40.68141)</td>\n",
       "      <td>[2022-01-28, 19:00:00.000]</td>\n",
       "    </tr>\n",
       "  </tbody>\n",
       "</table>\n",
       "</div>"
      ],
      "text/plain": [
       "         transit_timestamp transit_mode station_complex_id  \\\n",
       "0  2022-01-28T06:00:00.000       subway                212   \n",
       "1  2022-01-28T04:00:00.000       subway                209   \n",
       "2  2022-01-28T18:00:00.000       subway                167   \n",
       "3  2022-01-28T00:00:00.000       subway                 20   \n",
       "4  2022-01-28T19:00:00.000       subway                 88   \n",
       "\n",
       "                  station_complex    borough payment_method  \\\n",
       "0            Kingsbridge Rd (B,D)      Bronx      metrocard   \n",
       "1        Far Rockaway-Mott Av (A)     Queens      metrocard   \n",
       "2  W 4 St-Wash Sq (A,C,E,B,D,F,M)  Manhattan      metrocard   \n",
       "3                 City Hall (R,W)  Manhattan           omny   \n",
       "4                Norwood Av (J,Z)   Brooklyn           omny   \n",
       "\n",
       "            fare_class_category  ridership  transfers   latitude  longitude  \\\n",
       "0          Metrocard - Students       39.0        1.0  40.866978 -73.893510   \n",
       "1  Metrocard - Unlimited 30-Day        2.0        0.0  40.603996 -73.755400   \n",
       "2  Metrocard - Unlimited 30-Day      215.0        0.0  40.732338 -74.000496   \n",
       "3              OMNY - Full Fare        3.0        0.0  40.713284 -74.006980   \n",
       "4              OMNY - Full Fare       11.0        0.0  40.681410 -73.880035   \n",
       "\n",
       "                   georeference                        time  \n",
       "0   POINT (-73.89351 40.866978)  [2022-01-28, 06:00:00.000]  \n",
       "1    POINT (-73.7554 40.603996)  [2022-01-28, 04:00:00.000]  \n",
       "2  POINT (-74.000496 40.732338)  [2022-01-28, 18:00:00.000]  \n",
       "3   POINT (-74.00698 40.713284)  [2022-01-28, 00:00:00.000]  \n",
       "4   POINT (-73.880035 40.68141)  [2022-01-28, 19:00:00.000]  "
      ]
     },
     "execution_count": 7,
     "metadata": {},
     "output_type": "execute_result"
    }
   ],
   "source": [
    "new_df_subway.head(5)"
   ]
  },
  {
   "cell_type": "code",
   "execution_count": 9,
   "id": "34495cc8-8a15-4c7c-ac0e-1e543ae1e18b",
   "metadata": {},
   "outputs": [
    {
     "name": "stderr",
     "output_type": "stream",
     "text": [
      "/var/folders/9h/7mtmy98n0jl_fwz3rzx0_k300000gn/T/ipykernel_5886/975457845.py:1: SettingWithCopyWarning: \n",
      "A value is trying to be set on a copy of a slice from a DataFrame.\n",
      "Try using .loc[row_indexer,col_indexer] = value instead\n",
      "\n",
      "See the caveats in the documentation: https://pandas.pydata.org/pandas-docs/stable/user_guide/indexing.html#returning-a-view-versus-a-copy\n",
      "  new_df_subway['date']=[x[0] for x in new_df_subway['time']]\n",
      "/var/folders/9h/7mtmy98n0jl_fwz3rzx0_k300000gn/T/ipykernel_5886/975457845.py:2: SettingWithCopyWarning: \n",
      "A value is trying to be set on a copy of a slice from a DataFrame.\n",
      "Try using .loc[row_indexer,col_indexer] = value instead\n",
      "\n",
      "See the caveats in the documentation: https://pandas.pydata.org/pandas-docs/stable/user_guide/indexing.html#returning-a-view-versus-a-copy\n",
      "  new_df_subway['time']=[x[1] for x in new_df_subway['time']]\n"
     ]
    }
   ],
   "source": [
    "new_df_subway['date']=[x[0] for x in new_df_subway['time']]\n",
    "new_df_subway['time']=[x[1] for x in new_df_subway['time']]"
   ]
  },
  {
   "cell_type": "code",
   "execution_count": 12,
   "id": "ecefb689-03ca-4b6c-80ce-0fb5eb83e897",
   "metadata": {},
   "outputs": [
    {
     "data": {
      "text/plain": [
       "array(['06:00:00.000', '04:00:00.000', '18:00:00.000', '00:00:00.000',\n",
       "       '19:00:00.000', '11:00:00.000', '22:00:00.000', '08:00:00.000',\n",
       "       '20:00:00.000', '14:00:00.000', '12:00:00.000', '15:00:00.000',\n",
       "       '10:00:00.000', '07:00:00.000', '01:00:00.000', '13:00:00.000',\n",
       "       '21:00:00.000', '17:00:00.000', '23:00:00.000', '16:00:00.000',\n",
       "       '05:00:00.000', '03:00:00.000', '09:00:00.000', '02:00:00.000'],\n",
       "      dtype=object)"
      ]
     },
     "execution_count": 12,
     "metadata": {},
     "output_type": "execute_result"
    }
   ],
   "source": [
    "new_df_subway['time'].value_counts()\n",
    "new_df_subway['time'].unique()\n"
   ]
  },
  {
   "cell_type": "code",
   "execution_count": 13,
   "id": "945ccbe1-fc87-4dfc-806e-77807cabe3f7",
   "metadata": {},
   "outputs": [
    {
     "data": {
      "text/plain": [
       "\u001b[0;31mSignature:\u001b[0m \u001b[0mstr\u001b[0m\u001b[0;34m.\u001b[0m\u001b[0mreplace\u001b[0m\u001b[0;34m(\u001b[0m\u001b[0mself\u001b[0m\u001b[0;34m,\u001b[0m \u001b[0mold\u001b[0m\u001b[0;34m,\u001b[0m \u001b[0mnew\u001b[0m\u001b[0;34m,\u001b[0m \u001b[0mcount\u001b[0m\u001b[0;34m=\u001b[0m\u001b[0;34m-\u001b[0m\u001b[0;36m1\u001b[0m\u001b[0;34m,\u001b[0m \u001b[0;34m/\u001b[0m\u001b[0;34m)\u001b[0m\u001b[0;34m\u001b[0m\u001b[0;34m\u001b[0m\u001b[0m\n",
       "\u001b[0;31mDocstring:\u001b[0m\n",
       "Return a copy with all occurrences of substring old replaced by new.\n",
       "\n",
       "  count\n",
       "    Maximum number of occurrences to replace.\n",
       "    -1 (the default value) means replace all occurrences.\n",
       "\n",
       "If the optional argument count is given, only the first count occurrences are\n",
       "replaced.\n",
       "\u001b[0;31mType:\u001b[0m      method_descriptor"
      ]
     },
     "metadata": {},
     "output_type": "display_data"
    }
   ],
   "source": [
    "new_df_subway['time'].str.replace?"
   ]
  },
  {
   "cell_type": "code",
   "execution_count": 14,
   "id": "786ab84d-637c-471b-a80f-07c959fe01a2",
   "metadata": {},
   "outputs": [
    {
     "name": "stderr",
     "output_type": "stream",
     "text": [
      "/var/folders/9h/7mtmy98n0jl_fwz3rzx0_k300000gn/T/ipykernel_5886/2577201477.py:1: SettingWithCopyWarning: \n",
      "A value is trying to be set on a copy of a slice from a DataFrame.\n",
      "Try using .loc[row_indexer,col_indexer] = value instead\n",
      "\n",
      "See the caveats in the documentation: https://pandas.pydata.org/pandas-docs/stable/user_guide/indexing.html#returning-a-view-versus-a-copy\n",
      "  new_df_subway['time']=new_df_subway['time'].str.replace('.000','')\n"
     ]
    }
   ],
   "source": [
    "new_df_subway['time']=new_df_subway['time'].str.replace('.000','')"
   ]
  },
  {
   "cell_type": "code",
   "execution_count": 16,
   "id": "70f3d2c8-2ed6-471d-a92b-6ed0f2311fa5",
   "metadata": {},
   "outputs": [
    {
     "data": {
      "text/plain": [
       "array(['06:00:00', '04:00:00', '18:00:00', '00:00:00', '19:00:00',\n",
       "       '11:00:00', '22:00:00', '08:00:00', '20:00:00', '14:00:00',\n",
       "       '12:00:00', '15:00:00', '10:00:00', '07:00:00', '01:00:00',\n",
       "       '13:00:00', '21:00:00', '17:00:00', '23:00:00', '16:00:00',\n",
       "       '05:00:00', '03:00:00', '09:00:00', '02:00:00'], dtype=object)"
      ]
     },
     "execution_count": 16,
     "metadata": {},
     "output_type": "execute_result"
    }
   ],
   "source": [
    "new_df_subway['time'].unique()"
   ]
  },
  {
   "cell_type": "code",
   "execution_count": 18,
   "id": "0cde49d9-9be3-407a-a62a-0d14be461e74",
   "metadata": {},
   "outputs": [
    {
     "name": "stderr",
     "output_type": "stream",
     "text": [
      "/var/folders/9h/7mtmy98n0jl_fwz3rzx0_k300000gn/T/ipykernel_5886/1603293747.py:2: SettingWithCopyWarning: \n",
      "A value is trying to be set on a copy of a slice from a DataFrame\n",
      "\n",
      "See the caveats in the documentation: https://pandas.pydata.org/pandas-docs/stable/user_guide/indexing.html#returning-a-view-versus-a-copy\n",
      "  new_df_subway.drop(columns=['transit_timestamp'],inplace=True)\n"
     ]
    }
   ],
   "source": [
    "new_df_subway.head(5)\n",
    "new_df_subway.drop(columns=['transit_timestamp'],inplace=True)"
   ]
  },
  {
   "cell_type": "code",
   "execution_count": 21,
   "id": "8ba42fab-801b-47bf-8e56-7e0613c72cd0",
   "metadata": {},
   "outputs": [
    {
     "data": {
      "text/plain": [
       "Index(['transit_mode', 'station_complex_id', 'station_complex', 'borough',\n",
       "       'payment_method', 'fare_class_category', 'ridership', 'transfers',\n",
       "       'latitude', 'longitude', 'georeference', 'time', 'date'],\n",
       "      dtype='object')"
      ]
     },
     "execution_count": 21,
     "metadata": {},
     "output_type": "execute_result"
    }
   ],
   "source": [
    "new_df_subway.columns"
   ]
  },
  {
   "cell_type": "code",
   "execution_count": 61,
   "id": "4e12d9a1-0bde-4a92-953b-ced4c5da152a",
   "metadata": {},
   "outputs": [],
   "source": [
    "import plotly.express as px\n",
    "import kaleido\n",
    "\n",
    "\n",
    "temp_df_jan22=new_df_subway[\n",
    "    (new_df_subway['date']>='2022-01-01')&\n",
    "    (new_df_subway['date']<'2022-02-01')]\n",
    "\n",
    "agg_jan_df=temp_df_jan22.groupby(['latitude','longitude','borough','station_complex'],as_index=False)['ridership'].sum()\n",
    "\n"
   ]
  },
  {
   "cell_type": "code",
   "execution_count": 58,
   "id": "227f353e-8119-4d4e-a9f4-0df5664cd981",
   "metadata": {},
   "outputs": [
    {
     "data": {
      "text/html": [
       "<div>\n",
       "<style scoped>\n",
       "    .dataframe tbody tr th:only-of-type {\n",
       "        vertical-align: middle;\n",
       "    }\n",
       "\n",
       "    .dataframe tbody tr th {\n",
       "        vertical-align: top;\n",
       "    }\n",
       "\n",
       "    .dataframe thead th {\n",
       "        text-align: right;\n",
       "    }\n",
       "</style>\n",
       "<table border=\"1\" class=\"dataframe\">\n",
       "  <thead>\n",
       "    <tr style=\"text-align: right;\">\n",
       "      <th></th>\n",
       "      <th>latitude</th>\n",
       "      <th>longitude</th>\n",
       "      <th>borough</th>\n",
       "      <th>station_complex</th>\n",
       "      <th>ridership</th>\n",
       "    </tr>\n",
       "  </thead>\n",
       "  <tbody>\n",
       "    <tr>\n",
       "      <th>334</th>\n",
       "      <td>40.757310</td>\n",
       "      <td>-73.986755</td>\n",
       "      <td>Manhattan</td>\n",
       "      <td>Times Sq-42 St (N,Q,R,W,S,1,2,3,7)/42 St (A,C,E)</td>\n",
       "      <td>477743.0</td>\n",
       "    </tr>\n",
       "    <tr>\n",
       "      <th>316</th>\n",
       "      <td>40.751778</td>\n",
       "      <td>-73.976845</td>\n",
       "      <td>Manhattan</td>\n",
       "      <td>Grand Central-42 St (S,4,5,6,7)</td>\n",
       "      <td>314963.0</td>\n",
       "    </tr>\n",
       "    <tr>\n",
       "      <th>311</th>\n",
       "      <td>40.749718</td>\n",
       "      <td>-73.987820</td>\n",
       "      <td>Manhattan</td>\n",
       "      <td>34 St-Herald Sq (B,D,F,M,N,Q,R,W)</td>\n",
       "      <td>284258.0</td>\n",
       "    </tr>\n",
       "    <tr>\n",
       "      <th>269</th>\n",
       "      <td>40.735737</td>\n",
       "      <td>-73.989950</td>\n",
       "      <td>Manhattan</td>\n",
       "      <td>14 St-Union Sq (L,N,Q,R,W,4,5,6)</td>\n",
       "      <td>254626.0</td>\n",
       "    </tr>\n",
       "    <tr>\n",
       "      <th>213</th>\n",
       "      <td>40.710373</td>\n",
       "      <td>-74.006570</td>\n",
       "      <td>Manhattan</td>\n",
       "      <td>Fulton St (A,C,J,Z,2,3,4,5)</td>\n",
       "      <td>203224.0</td>\n",
       "    </tr>\n",
       "    <tr>\n",
       "      <th>318</th>\n",
       "      <td>40.752290</td>\n",
       "      <td>-73.993390</td>\n",
       "      <td>Manhattan</td>\n",
       "      <td>34 St-Penn Station (A,C,E)</td>\n",
       "      <td>196571.0</td>\n",
       "    </tr>\n",
       "    <tr>\n",
       "      <th>354</th>\n",
       "      <td>40.768295</td>\n",
       "      <td>-73.981735</td>\n",
       "      <td>Manhattan</td>\n",
       "      <td>59 St-Columbus Circle (A,B,C,D,1)</td>\n",
       "      <td>191529.0</td>\n",
       "    </tr>\n",
       "    <tr>\n",
       "      <th>338</th>\n",
       "      <td>40.759600</td>\n",
       "      <td>-73.830030</td>\n",
       "      <td>Queens</td>\n",
       "      <td>Flushing-Main St (7)</td>\n",
       "      <td>189028.0</td>\n",
       "    </tr>\n",
       "    <tr>\n",
       "      <th>298</th>\n",
       "      <td>40.746850</td>\n",
       "      <td>-73.891335</td>\n",
       "      <td>Queens</td>\n",
       "      <td>74-Broadway (7)/Jackson Hts-Roosevelt Av (E,F,...</td>\n",
       "      <td>184115.0</td>\n",
       "    </tr>\n",
       "    <tr>\n",
       "      <th>313</th>\n",
       "      <td>40.750374</td>\n",
       "      <td>-73.991060</td>\n",
       "      <td>Manhattan</td>\n",
       "      <td>34 St-Penn Station (1,2,3)</td>\n",
       "      <td>178918.0</td>\n",
       "    </tr>\n",
       "    <tr>\n",
       "      <th>345</th>\n",
       "      <td>40.762660</td>\n",
       "      <td>-73.967255</td>\n",
       "      <td>Manhattan</td>\n",
       "      <td>Lexington Av (N,R,W)/59 St (4,5,6)</td>\n",
       "      <td>149222.0</td>\n",
       "    </tr>\n",
       "    <tr>\n",
       "      <th>139</th>\n",
       "      <td>40.684460</td>\n",
       "      <td>-73.976890</td>\n",
       "      <td>Brooklyn</td>\n",
       "      <td>Atlantic Av-Barclays Ctr (B,D,N,Q,R,2,3,4,5)</td>\n",
       "      <td>144194.0</td>\n",
       "    </tr>\n",
       "    <tr>\n",
       "      <th>363</th>\n",
       "      <td>40.779490</td>\n",
       "      <td>-73.955590</td>\n",
       "      <td>Manhattan</td>\n",
       "      <td>86 St (4,5,6)</td>\n",
       "      <td>142627.0</td>\n",
       "    </tr>\n",
       "    <tr>\n",
       "      <th>335</th>\n",
       "      <td>40.757553</td>\n",
       "      <td>-73.969055</td>\n",
       "      <td>Manhattan</td>\n",
       "      <td>Lexington Av-53 St (E,M)/51 St (6)</td>\n",
       "      <td>140232.0</td>\n",
       "    </tr>\n",
       "    <tr>\n",
       "      <th>228</th>\n",
       "      <td>40.714110</td>\n",
       "      <td>-74.008580</td>\n",
       "      <td>Manhattan</td>\n",
       "      <td>Chambers St (A,C)/WTC (E)/Park Pl (2,3)/Cortla...</td>\n",
       "      <td>136542.0</td>\n",
       "    </tr>\n",
       "    <tr>\n",
       "      <th>336</th>\n",
       "      <td>40.758663</td>\n",
       "      <td>-73.981330</td>\n",
       "      <td>Manhattan</td>\n",
       "      <td>47-50 Sts-Rockefeller Ctr (B,D,F,M)</td>\n",
       "      <td>131860.0</td>\n",
       "    </tr>\n",
       "    <tr>\n",
       "      <th>274</th>\n",
       "      <td>40.738228</td>\n",
       "      <td>-73.996210</td>\n",
       "      <td>Manhattan</td>\n",
       "      <td>14 St (F,M,1,2,3)/6 Av (L)</td>\n",
       "      <td>122004.0</td>\n",
       "    </tr>\n",
       "    <tr>\n",
       "      <th>277</th>\n",
       "      <td>40.740894</td>\n",
       "      <td>-74.001690</td>\n",
       "      <td>Manhattan</td>\n",
       "      <td>14 St (A,C,E)/8 Av (L)</td>\n",
       "      <td>120005.0</td>\n",
       "    </tr>\n",
       "    <tr>\n",
       "      <th>324</th>\n",
       "      <td>40.754223</td>\n",
       "      <td>-73.981964</td>\n",
       "      <td>Manhattan</td>\n",
       "      <td>Bryant Pk (B,D,F,M)/5 Av (7)</td>\n",
       "      <td>118295.0</td>\n",
       "    </tr>\n",
       "    <tr>\n",
       "      <th>362</th>\n",
       "      <td>40.778454</td>\n",
       "      <td>-73.981970</td>\n",
       "      <td>Manhattan</td>\n",
       "      <td>72 St (1,2,3)</td>\n",
       "      <td>117461.0</td>\n",
       "    </tr>\n",
       "    <tr>\n",
       "      <th>372</th>\n",
       "      <td>40.793920</td>\n",
       "      <td>-73.972320</td>\n",
       "      <td>Manhattan</td>\n",
       "      <td>96 St (1,2,3)</td>\n",
       "      <td>114467.0</td>\n",
       "    </tr>\n",
       "    <tr>\n",
       "      <th>244</th>\n",
       "      <td>40.719530</td>\n",
       "      <td>-73.999890</td>\n",
       "      <td>Manhattan</td>\n",
       "      <td>Canal St (J,N,Q,R,W,Z,6)</td>\n",
       "      <td>109539.0</td>\n",
       "    </tr>\n",
       "    <tr>\n",
       "      <th>158</th>\n",
       "      <td>40.692337</td>\n",
       "      <td>-73.985940</td>\n",
       "      <td>Brooklyn</td>\n",
       "      <td>Jay St-MetroTech (A,C,F,R)</td>\n",
       "      <td>106886.0</td>\n",
       "    </tr>\n",
       "    <tr>\n",
       "      <th>263</th>\n",
       "      <td>40.732338</td>\n",
       "      <td>-74.000496</td>\n",
       "      <td>Manhattan</td>\n",
       "      <td>W 4 St-Wash Sq (A,C,E,B,D,F,M)</td>\n",
       "      <td>106004.0</td>\n",
       "    </tr>\n",
       "    <tr>\n",
       "      <th>254</th>\n",
       "      <td>40.725914</td>\n",
       "      <td>-73.994660</td>\n",
       "      <td>Manhattan</td>\n",
       "      <td>Broadway-Lafayette St (B,D,F,M)/Bleecker St (6)</td>\n",
       "      <td>105763.0</td>\n",
       "    </tr>\n",
       "    <tr>\n",
       "      <th>183</th>\n",
       "      <td>40.702150</td>\n",
       "      <td>-73.801110</td>\n",
       "      <td>Queens</td>\n",
       "      <td>Jamaica Center-Parsons/Archer (E,J,Z)</td>\n",
       "      <td>103258.0</td>\n",
       "    </tr>\n",
       "    <tr>\n",
       "      <th>355</th>\n",
       "      <td>40.768800</td>\n",
       "      <td>-73.958430</td>\n",
       "      <td>Manhattan</td>\n",
       "      <td>72 St (Q)</td>\n",
       "      <td>102681.0</td>\n",
       "    </tr>\n",
       "    <tr>\n",
       "      <th>166</th>\n",
       "      <td>40.694100</td>\n",
       "      <td>-73.990000</td>\n",
       "      <td>Brooklyn</td>\n",
       "      <td>Court St (R)/Borough Hall (2,3,4,5)</td>\n",
       "      <td>96931.0</td>\n",
       "    </tr>\n",
       "    <tr>\n",
       "      <th>358</th>\n",
       "      <td>40.773620</td>\n",
       "      <td>-73.959880</td>\n",
       "      <td>Manhattan</td>\n",
       "      <td>77 St (6)</td>\n",
       "      <td>92596.0</td>\n",
       "    </tr>\n",
       "    <tr>\n",
       "      <th>232</th>\n",
       "      <td>40.717304</td>\n",
       "      <td>-73.956870</td>\n",
       "      <td>Brooklyn</td>\n",
       "      <td>Bedford Av (L)</td>\n",
       "      <td>92059.0</td>\n",
       "    </tr>\n",
       "    <tr>\n",
       "      <th>308</th>\n",
       "      <td>40.749146</td>\n",
       "      <td>-73.869530</td>\n",
       "      <td>Queens</td>\n",
       "      <td>Junction Blvd (7)</td>\n",
       "      <td>91485.0</td>\n",
       "    </tr>\n",
       "    <tr>\n",
       "      <th>238</th>\n",
       "      <td>40.718613</td>\n",
       "      <td>-73.987434</td>\n",
       "      <td>Manhattan</td>\n",
       "      <td>Delancey St (F)/Essex St (J,M,Z)</td>\n",
       "      <td>89175.0</td>\n",
       "    </tr>\n",
       "    <tr>\n",
       "      <th>389</th>\n",
       "      <td>40.811108</td>\n",
       "      <td>-73.952350</td>\n",
       "      <td>Manhattan</td>\n",
       "      <td>125 St (A,C,B,D)</td>\n",
       "      <td>87104.0</td>\n",
       "    </tr>\n",
       "    <tr>\n",
       "      <th>349</th>\n",
       "      <td>40.764664</td>\n",
       "      <td>-73.980660</td>\n",
       "      <td>Manhattan</td>\n",
       "      <td>57 St-7 Av (N,Q,R,W)</td>\n",
       "      <td>83779.0</td>\n",
       "    </tr>\n",
       "    <tr>\n",
       "      <th>94</th>\n",
       "      <td>40.668896</td>\n",
       "      <td>-73.932945</td>\n",
       "      <td>Brooklyn</td>\n",
       "      <td>Crown Hts-Utica Av (3,4)</td>\n",
       "      <td>83343.0</td>\n",
       "    </tr>\n",
       "    <tr>\n",
       "      <th>261</th>\n",
       "      <td>40.730953</td>\n",
       "      <td>-73.981630</td>\n",
       "      <td>Manhattan</td>\n",
       "      <td>1 Av (L)</td>\n",
       "      <td>81654.0</td>\n",
       "    </tr>\n",
       "    <tr>\n",
       "      <th>247</th>\n",
       "      <td>40.721690</td>\n",
       "      <td>-73.844520</td>\n",
       "      <td>Queens</td>\n",
       "      <td>Forest Hills-71 Av (E,F,M,R)</td>\n",
       "      <td>81116.0</td>\n",
       "    </tr>\n",
       "    <tr>\n",
       "      <th>294</th>\n",
       "      <td>40.746082</td>\n",
       "      <td>-73.982080</td>\n",
       "      <td>Manhattan</td>\n",
       "      <td>33 St (6)</td>\n",
       "      <td>80456.0</td>\n",
       "    </tr>\n",
       "    <tr>\n",
       "      <th>431</th>\n",
       "      <td>40.840717</td>\n",
       "      <td>-73.939560</td>\n",
       "      <td>Manhattan</td>\n",
       "      <td>168 St (A,C,1)</td>\n",
       "      <td>80036.0</td>\n",
       "    </tr>\n",
       "    <tr>\n",
       "      <th>229</th>\n",
       "      <td>40.714440</td>\n",
       "      <td>-73.831010</td>\n",
       "      <td>Queens</td>\n",
       "      <td>Kew Gardens-Union Tpke (E,F)</td>\n",
       "      <td>79261.0</td>\n",
       "    </tr>\n",
       "    <tr>\n",
       "      <th>381</th>\n",
       "      <td>40.804140</td>\n",
       "      <td>-73.937590</td>\n",
       "      <td>Manhattan</td>\n",
       "      <td>125 St (4,5,6)</td>\n",
       "      <td>79056.0</td>\n",
       "    </tr>\n",
       "    <tr>\n",
       "      <th>179</th>\n",
       "      <td>40.700485</td>\n",
       "      <td>-73.807970</td>\n",
       "      <td>Queens</td>\n",
       "      <td>Sutphin Blvd-Archer Av-JFK Airport (E,J,Z)</td>\n",
       "      <td>78213.0</td>\n",
       "    </tr>\n",
       "    <tr>\n",
       "      <th>224</th>\n",
       "      <td>40.713240</td>\n",
       "      <td>-74.003400</td>\n",
       "      <td>Manhattan</td>\n",
       "      <td>Brooklyn Bridge-City Hall (4,5,6)/Chambers St ...</td>\n",
       "      <td>76474.0</td>\n",
       "    </tr>\n",
       "    <tr>\n",
       "      <th>312</th>\n",
       "      <td>40.749866</td>\n",
       "      <td>-73.862700</td>\n",
       "      <td>Queens</td>\n",
       "      <td>103 St-Corona Plaza (7)</td>\n",
       "      <td>76356.0</td>\n",
       "    </tr>\n",
       "    <tr>\n",
       "      <th>361</th>\n",
       "      <td>40.777890</td>\n",
       "      <td>-73.951790</td>\n",
       "      <td>Manhattan</td>\n",
       "      <td>86 St (Q)</td>\n",
       "      <td>76279.0</td>\n",
       "    </tr>\n",
       "    <tr>\n",
       "      <th>234</th>\n",
       "      <td>40.718266</td>\n",
       "      <td>-73.993750</td>\n",
       "      <td>Manhattan</td>\n",
       "      <td>Grand St (B,D)</td>\n",
       "      <td>70900.0</td>\n",
       "    </tr>\n",
       "    <tr>\n",
       "      <th>406</th>\n",
       "      <td>40.824783</td>\n",
       "      <td>-73.944214</td>\n",
       "      <td>Manhattan</td>\n",
       "      <td>145 St (A,C,B,D)</td>\n",
       "      <td>69950.0</td>\n",
       "    </tr>\n",
       "    <tr>\n",
       "      <th>411</th>\n",
       "      <td>40.827995</td>\n",
       "      <td>-73.925650</td>\n",
       "      <td>Bronx</td>\n",
       "      <td>161 St-Yankee Stadium (B,D,4)</td>\n",
       "      <td>68490.0</td>\n",
       "    </tr>\n",
       "    <tr>\n",
       "      <th>283</th>\n",
       "      <td>40.742878</td>\n",
       "      <td>-73.992820</td>\n",
       "      <td>Manhattan</td>\n",
       "      <td>23 St (F,M)</td>\n",
       "      <td>68199.0</td>\n",
       "    </tr>\n",
       "    <tr>\n",
       "      <th>220</th>\n",
       "      <td>40.712646</td>\n",
       "      <td>-73.783810</td>\n",
       "      <td>Queens</td>\n",
       "      <td>Jamaica-179 St (F)</td>\n",
       "      <td>68176.0</td>\n",
       "    </tr>\n",
       "  </tbody>\n",
       "</table>\n",
       "</div>"
      ],
      "text/plain": [
       "      latitude  longitude    borough  \\\n",
       "334  40.757310 -73.986755  Manhattan   \n",
       "316  40.751778 -73.976845  Manhattan   \n",
       "311  40.749718 -73.987820  Manhattan   \n",
       "269  40.735737 -73.989950  Manhattan   \n",
       "213  40.710373 -74.006570  Manhattan   \n",
       "318  40.752290 -73.993390  Manhattan   \n",
       "354  40.768295 -73.981735  Manhattan   \n",
       "338  40.759600 -73.830030     Queens   \n",
       "298  40.746850 -73.891335     Queens   \n",
       "313  40.750374 -73.991060  Manhattan   \n",
       "345  40.762660 -73.967255  Manhattan   \n",
       "139  40.684460 -73.976890   Brooklyn   \n",
       "363  40.779490 -73.955590  Manhattan   \n",
       "335  40.757553 -73.969055  Manhattan   \n",
       "228  40.714110 -74.008580  Manhattan   \n",
       "336  40.758663 -73.981330  Manhattan   \n",
       "274  40.738228 -73.996210  Manhattan   \n",
       "277  40.740894 -74.001690  Manhattan   \n",
       "324  40.754223 -73.981964  Manhattan   \n",
       "362  40.778454 -73.981970  Manhattan   \n",
       "372  40.793920 -73.972320  Manhattan   \n",
       "244  40.719530 -73.999890  Manhattan   \n",
       "158  40.692337 -73.985940   Brooklyn   \n",
       "263  40.732338 -74.000496  Manhattan   \n",
       "254  40.725914 -73.994660  Manhattan   \n",
       "183  40.702150 -73.801110     Queens   \n",
       "355  40.768800 -73.958430  Manhattan   \n",
       "166  40.694100 -73.990000   Brooklyn   \n",
       "358  40.773620 -73.959880  Manhattan   \n",
       "232  40.717304 -73.956870   Brooklyn   \n",
       "308  40.749146 -73.869530     Queens   \n",
       "238  40.718613 -73.987434  Manhattan   \n",
       "389  40.811108 -73.952350  Manhattan   \n",
       "349  40.764664 -73.980660  Manhattan   \n",
       "94   40.668896 -73.932945   Brooklyn   \n",
       "261  40.730953 -73.981630  Manhattan   \n",
       "247  40.721690 -73.844520     Queens   \n",
       "294  40.746082 -73.982080  Manhattan   \n",
       "431  40.840717 -73.939560  Manhattan   \n",
       "229  40.714440 -73.831010     Queens   \n",
       "381  40.804140 -73.937590  Manhattan   \n",
       "179  40.700485 -73.807970     Queens   \n",
       "224  40.713240 -74.003400  Manhattan   \n",
       "312  40.749866 -73.862700     Queens   \n",
       "361  40.777890 -73.951790  Manhattan   \n",
       "234  40.718266 -73.993750  Manhattan   \n",
       "406  40.824783 -73.944214  Manhattan   \n",
       "411  40.827995 -73.925650      Bronx   \n",
       "283  40.742878 -73.992820  Manhattan   \n",
       "220  40.712646 -73.783810     Queens   \n",
       "\n",
       "                                       station_complex  ridership  \n",
       "334   Times Sq-42 St (N,Q,R,W,S,1,2,3,7)/42 St (A,C,E)   477743.0  \n",
       "316                    Grand Central-42 St (S,4,5,6,7)   314963.0  \n",
       "311                  34 St-Herald Sq (B,D,F,M,N,Q,R,W)   284258.0  \n",
       "269                   14 St-Union Sq (L,N,Q,R,W,4,5,6)   254626.0  \n",
       "213                        Fulton St (A,C,J,Z,2,3,4,5)   203224.0  \n",
       "318                         34 St-Penn Station (A,C,E)   196571.0  \n",
       "354                  59 St-Columbus Circle (A,B,C,D,1)   191529.0  \n",
       "338                               Flushing-Main St (7)   189028.0  \n",
       "298  74-Broadway (7)/Jackson Hts-Roosevelt Av (E,F,...   184115.0  \n",
       "313                         34 St-Penn Station (1,2,3)   178918.0  \n",
       "345                 Lexington Av (N,R,W)/59 St (4,5,6)   149222.0  \n",
       "139       Atlantic Av-Barclays Ctr (B,D,N,Q,R,2,3,4,5)   144194.0  \n",
       "363                                      86 St (4,5,6)   142627.0  \n",
       "335                 Lexington Av-53 St (E,M)/51 St (6)   140232.0  \n",
       "228  Chambers St (A,C)/WTC (E)/Park Pl (2,3)/Cortla...   136542.0  \n",
       "336                47-50 Sts-Rockefeller Ctr (B,D,F,M)   131860.0  \n",
       "274                         14 St (F,M,1,2,3)/6 Av (L)   122004.0  \n",
       "277                             14 St (A,C,E)/8 Av (L)   120005.0  \n",
       "324                       Bryant Pk (B,D,F,M)/5 Av (7)   118295.0  \n",
       "362                                      72 St (1,2,3)   117461.0  \n",
       "372                                      96 St (1,2,3)   114467.0  \n",
       "244                           Canal St (J,N,Q,R,W,Z,6)   109539.0  \n",
       "158                         Jay St-MetroTech (A,C,F,R)   106886.0  \n",
       "263                     W 4 St-Wash Sq (A,C,E,B,D,F,M)   106004.0  \n",
       "254    Broadway-Lafayette St (B,D,F,M)/Bleecker St (6)   105763.0  \n",
       "183              Jamaica Center-Parsons/Archer (E,J,Z)   103258.0  \n",
       "355                                          72 St (Q)   102681.0  \n",
       "166                Court St (R)/Borough Hall (2,3,4,5)    96931.0  \n",
       "358                                          77 St (6)    92596.0  \n",
       "232                                     Bedford Av (L)    92059.0  \n",
       "308                                  Junction Blvd (7)    91485.0  \n",
       "238                   Delancey St (F)/Essex St (J,M,Z)    89175.0  \n",
       "389                                   125 St (A,C,B,D)    87104.0  \n",
       "349                               57 St-7 Av (N,Q,R,W)    83779.0  \n",
       "94                            Crown Hts-Utica Av (3,4)    83343.0  \n",
       "261                                           1 Av (L)    81654.0  \n",
       "247                       Forest Hills-71 Av (E,F,M,R)    81116.0  \n",
       "294                                          33 St (6)    80456.0  \n",
       "431                                     168 St (A,C,1)    80036.0  \n",
       "229                       Kew Gardens-Union Tpke (E,F)    79261.0  \n",
       "381                                     125 St (4,5,6)    79056.0  \n",
       "179         Sutphin Blvd-Archer Av-JFK Airport (E,J,Z)    78213.0  \n",
       "224  Brooklyn Bridge-City Hall (4,5,6)/Chambers St ...    76474.0  \n",
       "312                            103 St-Corona Plaza (7)    76356.0  \n",
       "361                                          86 St (Q)    76279.0  \n",
       "234                                     Grand St (B,D)    70900.0  \n",
       "406                                   145 St (A,C,B,D)    69950.0  \n",
       "411                      161 St-Yankee Stadium (B,D,4)    68490.0  \n",
       "283                                        23 St (F,M)    68199.0  \n",
       "220                                 Jamaica-179 St (F)    68176.0  "
      ]
     },
     "execution_count": 58,
     "metadata": {},
     "output_type": "execute_result"
    }
   ],
   "source": [
    "agg_jan_df.sort_values(by='ridership',ascending=False).head(50)"
   ]
  },
  {
   "cell_type": "code",
   "execution_count": null,
   "id": "235907e6-8fe3-46df-b83b-4ede6c356c8b",
   "metadata": {},
   "outputs": [],
   "source": []
  },
  {
   "cell_type": "code",
   "execution_count": null,
   "id": "79ad50d4-ee0e-46de-a3f1-1a4a2d742f0e",
   "metadata": {},
   "outputs": [],
   "source": []
  },
  {
   "cell_type": "code",
   "execution_count": 62,
   "id": "da5ca51e-a52a-4d86-a4c6-53a142c46301",
   "metadata": {},
   "outputs": [
    {
     "data": {
      "application/vnd.plotly.v1+json": {
       "config": {
        "plotlyServerURL": "https://plot.ly"
       },
       "data": [
        {
         "coloraxis": "coloraxis",
         "hovertemplate": "<b>%{hovertext}</b><br><br>ridership=%{z}<br>latitude=%{lat}<br>longitude=%{lon}<extra></extra>",
         "hovertext": [
          "Times Sq-42 St (N,Q,R,W,S,1,2,3,7)/42 St (A,C,E)",
          "Grand Central-42 St (S,4,5,6,7)",
          "34 St-Herald Sq (B,D,F,M,N,Q,R,W)",
          "14 St-Union Sq (L,N,Q,R,W,4,5,6)",
          "Fulton St (A,C,J,Z,2,3,4,5)",
          "34 St-Penn Station (A,C,E)",
          "59 St-Columbus Circle (A,B,C,D,1)",
          "Flushing-Main St (7)",
          "74-Broadway (7)/Jackson Hts-Roosevelt Av (E,F,M,R)",
          "34 St-Penn Station (1,2,3)",
          "Lexington Av (N,R,W)/59 St (4,5,6)",
          "Atlantic Av-Barclays Ctr (B,D,N,Q,R,2,3,4,5)",
          "86 St (4,5,6)",
          "Lexington Av-53 St (E,M)/51 St (6)",
          "Chambers St (A,C)/WTC (E)/Park Pl (2,3)/Cortlandt (R,W)",
          "47-50 Sts-Rockefeller Ctr (B,D,F,M)",
          "14 St (F,M,1,2,3)/6 Av (L)",
          "14 St (A,C,E)/8 Av (L)",
          "Bryant Pk (B,D,F,M)/5 Av (7)",
          "72 St (1,2,3)",
          "96 St (1,2,3)",
          "Canal St (J,N,Q,R,W,Z,6)",
          "Jay St-MetroTech (A,C,F,R)",
          "W 4 St-Wash Sq (A,C,E,B,D,F,M)",
          "Broadway-Lafayette St (B,D,F,M)/Bleecker St (6)",
          "Jamaica Center-Parsons/Archer (E,J,Z)",
          "72 St (Q)",
          "Court St (R)/Borough Hall (2,3,4,5)",
          "77 St (6)",
          "Bedford Av (L)",
          "Junction Blvd (7)",
          "Delancey St (F)/Essex St (J,M,Z)",
          "125 St (A,C,B,D)",
          "57 St-7 Av (N,Q,R,W)",
          "Crown Hts-Utica Av (3,4)",
          "1 Av (L)",
          "Forest Hills-71 Av (E,F,M,R)",
          "33 St (6)",
          "168 St (A,C,1)",
          "Kew Gardens-Union Tpke (E,F)",
          "125 St (4,5,6)",
          "Sutphin Blvd-Archer Av-JFK Airport (E,J,Z)",
          "Brooklyn Bridge-City Hall (4,5,6)/Chambers St (J,Z)",
          "103 St-Corona Plaza (7)",
          "86 St (Q)",
          "Grand St (B,D)",
          "145 St (A,C,B,D)",
          "161 St-Yankee Stadium (B,D,4)",
          "23 St (F,M)",
          "Jamaica-179 St (F)"
         ],
         "lat": [
          40.75731,
          40.751778,
          40.749718,
          40.735737,
          40.710373,
          40.75229,
          40.768295,
          40.7596,
          40.74685,
          40.750374,
          40.76266,
          40.68446,
          40.77949,
          40.757553,
          40.71411,
          40.758663,
          40.738228,
          40.740894,
          40.754223,
          40.778454,
          40.79392,
          40.71953,
          40.692337,
          40.732338,
          40.725914,
          40.70215,
          40.7688,
          40.6941,
          40.77362,
          40.717304,
          40.749146,
          40.718613,
          40.811108,
          40.764664,
          40.668896,
          40.730953,
          40.72169,
          40.746082,
          40.840717,
          40.71444,
          40.80414,
          40.700485,
          40.71324,
          40.749866,
          40.77789,
          40.718266,
          40.824783,
          40.827995,
          40.742878,
          40.712646
         ],
         "lon": [
          -73.986755,
          -73.976845,
          -73.98782,
          -73.98995,
          -74.00657,
          -73.99339,
          -73.981735,
          -73.83003,
          -73.891335,
          -73.99106,
          -73.967255,
          -73.97689,
          -73.95559,
          -73.969055,
          -74.00858,
          -73.98133,
          -73.99621,
          -74.00169,
          -73.981964,
          -73.98197,
          -73.97232,
          -73.99989,
          -73.98594,
          -74.000496,
          -73.99466,
          -73.80111,
          -73.95843,
          -73.99,
          -73.95988,
          -73.95687,
          -73.86953,
          -73.987434,
          -73.95235,
          -73.98066,
          -73.932945,
          -73.98163,
          -73.84452,
          -73.98208,
          -73.93956,
          -73.83101,
          -73.93759,
          -73.80797,
          -74.0034,
          -73.8627,
          -73.95179,
          -73.99375,
          -73.944214,
          -73.92565,
          -73.99282,
          -73.78381
         ],
         "name": "",
         "radius": 15,
         "subplot": "mapbox",
         "type": "densitymapbox",
         "z": [
          477743,
          314963,
          284258,
          254626,
          203224,
          196571,
          191529,
          189028,
          184115,
          178918,
          149222,
          144194,
          142627,
          140232,
          136542,
          131860,
          122004,
          120005,
          118295,
          117461,
          114467,
          109539,
          106886,
          106004,
          105763,
          103258,
          102681,
          96931,
          92596,
          92059,
          91485,
          89175,
          87104,
          83779,
          83343,
          81654,
          81116,
          80456,
          80036,
          79261,
          79056,
          78213,
          76474,
          76356,
          76279,
          70900,
          69950,
          68490,
          68199,
          68176
         ]
        }
       ],
       "layout": {
        "autosize": true,
        "coloraxis": {
         "colorbar": {
          "title": {
           "text": "ridership"
          }
         },
         "colorscale": [
          [
           0,
           "#0d0887"
          ],
          [
           0.1111111111111111,
           "#46039f"
          ],
          [
           0.2222222222222222,
           "#7201a8"
          ],
          [
           0.3333333333333333,
           "#9c179e"
          ],
          [
           0.4444444444444444,
           "#bd3786"
          ],
          [
           0.5555555555555556,
           "#d8576b"
          ],
          [
           0.6666666666666666,
           "#ed7953"
          ],
          [
           0.7777777777777778,
           "#fb9f3a"
          ],
          [
           0.8888888888888888,
           "#fdca26"
          ],
          [
           1,
           "#f0f921"
          ]
         ]
        },
        "legend": {
         "tracegroupgap": 0
        },
        "mapbox": {
         "center": {
          "lat": 40.74619142,
          "lon": -73.95162066
         },
         "domain": {
          "x": [
           0,
           1
          ],
          "y": [
           0,
           1
          ]
         },
         "style": "open-street-map",
         "zoom": 10
        },
        "margin": {
         "t": 60
        },
        "template": {
         "data": {
          "bar": [
           {
            "error_x": {
             "color": "#2a3f5f"
            },
            "error_y": {
             "color": "#2a3f5f"
            },
            "marker": {
             "line": {
              "color": "#E5ECF6",
              "width": 0.5
             },
             "pattern": {
              "fillmode": "overlay",
              "size": 10,
              "solidity": 0.2
             }
            },
            "type": "bar"
           }
          ],
          "barpolar": [
           {
            "marker": {
             "line": {
              "color": "#E5ECF6",
              "width": 0.5
             },
             "pattern": {
              "fillmode": "overlay",
              "size": 10,
              "solidity": 0.2
             }
            },
            "type": "barpolar"
           }
          ],
          "carpet": [
           {
            "aaxis": {
             "endlinecolor": "#2a3f5f",
             "gridcolor": "white",
             "linecolor": "white",
             "minorgridcolor": "white",
             "startlinecolor": "#2a3f5f"
            },
            "baxis": {
             "endlinecolor": "#2a3f5f",
             "gridcolor": "white",
             "linecolor": "white",
             "minorgridcolor": "white",
             "startlinecolor": "#2a3f5f"
            },
            "type": "carpet"
           }
          ],
          "choropleth": [
           {
            "colorbar": {
             "outlinewidth": 0,
             "ticks": ""
            },
            "type": "choropleth"
           }
          ],
          "contour": [
           {
            "colorbar": {
             "outlinewidth": 0,
             "ticks": ""
            },
            "colorscale": [
             [
              0,
              "#0d0887"
             ],
             [
              0.1111111111111111,
              "#46039f"
             ],
             [
              0.2222222222222222,
              "#7201a8"
             ],
             [
              0.3333333333333333,
              "#9c179e"
             ],
             [
              0.4444444444444444,
              "#bd3786"
             ],
             [
              0.5555555555555556,
              "#d8576b"
             ],
             [
              0.6666666666666666,
              "#ed7953"
             ],
             [
              0.7777777777777778,
              "#fb9f3a"
             ],
             [
              0.8888888888888888,
              "#fdca26"
             ],
             [
              1,
              "#f0f921"
             ]
            ],
            "type": "contour"
           }
          ],
          "contourcarpet": [
           {
            "colorbar": {
             "outlinewidth": 0,
             "ticks": ""
            },
            "type": "contourcarpet"
           }
          ],
          "heatmap": [
           {
            "colorbar": {
             "outlinewidth": 0,
             "ticks": ""
            },
            "colorscale": [
             [
              0,
              "#0d0887"
             ],
             [
              0.1111111111111111,
              "#46039f"
             ],
             [
              0.2222222222222222,
              "#7201a8"
             ],
             [
              0.3333333333333333,
              "#9c179e"
             ],
             [
              0.4444444444444444,
              "#bd3786"
             ],
             [
              0.5555555555555556,
              "#d8576b"
             ],
             [
              0.6666666666666666,
              "#ed7953"
             ],
             [
              0.7777777777777778,
              "#fb9f3a"
             ],
             [
              0.8888888888888888,
              "#fdca26"
             ],
             [
              1,
              "#f0f921"
             ]
            ],
            "type": "heatmap"
           }
          ],
          "heatmapgl": [
           {
            "colorbar": {
             "outlinewidth": 0,
             "ticks": ""
            },
            "colorscale": [
             [
              0,
              "#0d0887"
             ],
             [
              0.1111111111111111,
              "#46039f"
             ],
             [
              0.2222222222222222,
              "#7201a8"
             ],
             [
              0.3333333333333333,
              "#9c179e"
             ],
             [
              0.4444444444444444,
              "#bd3786"
             ],
             [
              0.5555555555555556,
              "#d8576b"
             ],
             [
              0.6666666666666666,
              "#ed7953"
             ],
             [
              0.7777777777777778,
              "#fb9f3a"
             ],
             [
              0.8888888888888888,
              "#fdca26"
             ],
             [
              1,
              "#f0f921"
             ]
            ],
            "type": "heatmapgl"
           }
          ],
          "histogram": [
           {
            "marker": {
             "pattern": {
              "fillmode": "overlay",
              "size": 10,
              "solidity": 0.2
             }
            },
            "type": "histogram"
           }
          ],
          "histogram2d": [
           {
            "colorbar": {
             "outlinewidth": 0,
             "ticks": ""
            },
            "colorscale": [
             [
              0,
              "#0d0887"
             ],
             [
              0.1111111111111111,
              "#46039f"
             ],
             [
              0.2222222222222222,
              "#7201a8"
             ],
             [
              0.3333333333333333,
              "#9c179e"
             ],
             [
              0.4444444444444444,
              "#bd3786"
             ],
             [
              0.5555555555555556,
              "#d8576b"
             ],
             [
              0.6666666666666666,
              "#ed7953"
             ],
             [
              0.7777777777777778,
              "#fb9f3a"
             ],
             [
              0.8888888888888888,
              "#fdca26"
             ],
             [
              1,
              "#f0f921"
             ]
            ],
            "type": "histogram2d"
           }
          ],
          "histogram2dcontour": [
           {
            "colorbar": {
             "outlinewidth": 0,
             "ticks": ""
            },
            "colorscale": [
             [
              0,
              "#0d0887"
             ],
             [
              0.1111111111111111,
              "#46039f"
             ],
             [
              0.2222222222222222,
              "#7201a8"
             ],
             [
              0.3333333333333333,
              "#9c179e"
             ],
             [
              0.4444444444444444,
              "#bd3786"
             ],
             [
              0.5555555555555556,
              "#d8576b"
             ],
             [
              0.6666666666666666,
              "#ed7953"
             ],
             [
              0.7777777777777778,
              "#fb9f3a"
             ],
             [
              0.8888888888888888,
              "#fdca26"
             ],
             [
              1,
              "#f0f921"
             ]
            ],
            "type": "histogram2dcontour"
           }
          ],
          "mesh3d": [
           {
            "colorbar": {
             "outlinewidth": 0,
             "ticks": ""
            },
            "type": "mesh3d"
           }
          ],
          "parcoords": [
           {
            "line": {
             "colorbar": {
              "outlinewidth": 0,
              "ticks": ""
             }
            },
            "type": "parcoords"
           }
          ],
          "pie": [
           {
            "automargin": true,
            "type": "pie"
           }
          ],
          "scatter": [
           {
            "fillpattern": {
             "fillmode": "overlay",
             "size": 10,
             "solidity": 0.2
            },
            "type": "scatter"
           }
          ],
          "scatter3d": [
           {
            "line": {
             "colorbar": {
              "outlinewidth": 0,
              "ticks": ""
             }
            },
            "marker": {
             "colorbar": {
              "outlinewidth": 0,
              "ticks": ""
             }
            },
            "type": "scatter3d"
           }
          ],
          "scattercarpet": [
           {
            "marker": {
             "colorbar": {
              "outlinewidth": 0,
              "ticks": ""
             }
            },
            "type": "scattercarpet"
           }
          ],
          "scattergeo": [
           {
            "marker": {
             "colorbar": {
              "outlinewidth": 0,
              "ticks": ""
             }
            },
            "type": "scattergeo"
           }
          ],
          "scattergl": [
           {
            "marker": {
             "colorbar": {
              "outlinewidth": 0,
              "ticks": ""
             }
            },
            "type": "scattergl"
           }
          ],
          "scattermapbox": [
           {
            "marker": {
             "colorbar": {
              "outlinewidth": 0,
              "ticks": ""
             }
            },
            "type": "scattermapbox"
           }
          ],
          "scatterpolar": [
           {
            "marker": {
             "colorbar": {
              "outlinewidth": 0,
              "ticks": ""
             }
            },
            "type": "scatterpolar"
           }
          ],
          "scatterpolargl": [
           {
            "marker": {
             "colorbar": {
              "outlinewidth": 0,
              "ticks": ""
             }
            },
            "type": "scatterpolargl"
           }
          ],
          "scatterternary": [
           {
            "marker": {
             "colorbar": {
              "outlinewidth": 0,
              "ticks": ""
             }
            },
            "type": "scatterternary"
           }
          ],
          "surface": [
           {
            "colorbar": {
             "outlinewidth": 0,
             "ticks": ""
            },
            "colorscale": [
             [
              0,
              "#0d0887"
             ],
             [
              0.1111111111111111,
              "#46039f"
             ],
             [
              0.2222222222222222,
              "#7201a8"
             ],
             [
              0.3333333333333333,
              "#9c179e"
             ],
             [
              0.4444444444444444,
              "#bd3786"
             ],
             [
              0.5555555555555556,
              "#d8576b"
             ],
             [
              0.6666666666666666,
              "#ed7953"
             ],
             [
              0.7777777777777778,
              "#fb9f3a"
             ],
             [
              0.8888888888888888,
              "#fdca26"
             ],
             [
              1,
              "#f0f921"
             ]
            ],
            "type": "surface"
           }
          ],
          "table": [
           {
            "cells": {
             "fill": {
              "color": "#EBF0F8"
             },
             "line": {
              "color": "white"
             }
            },
            "header": {
             "fill": {
              "color": "#C8D4E3"
             },
             "line": {
              "color": "white"
             }
            },
            "type": "table"
           }
          ]
         },
         "layout": {
          "annotationdefaults": {
           "arrowcolor": "#2a3f5f",
           "arrowhead": 0,
           "arrowwidth": 1
          },
          "autotypenumbers": "strict",
          "coloraxis": {
           "colorbar": {
            "outlinewidth": 0,
            "ticks": ""
           }
          },
          "colorscale": {
           "diverging": [
            [
             0,
             "#8e0152"
            ],
            [
             0.1,
             "#c51b7d"
            ],
            [
             0.2,
             "#de77ae"
            ],
            [
             0.3,
             "#f1b6da"
            ],
            [
             0.4,
             "#fde0ef"
            ],
            [
             0.5,
             "#f7f7f7"
            ],
            [
             0.6,
             "#e6f5d0"
            ],
            [
             0.7,
             "#b8e186"
            ],
            [
             0.8,
             "#7fbc41"
            ],
            [
             0.9,
             "#4d9221"
            ],
            [
             1,
             "#276419"
            ]
           ],
           "sequential": [
            [
             0,
             "#0d0887"
            ],
            [
             0.1111111111111111,
             "#46039f"
            ],
            [
             0.2222222222222222,
             "#7201a8"
            ],
            [
             0.3333333333333333,
             "#9c179e"
            ],
            [
             0.4444444444444444,
             "#bd3786"
            ],
            [
             0.5555555555555556,
             "#d8576b"
            ],
            [
             0.6666666666666666,
             "#ed7953"
            ],
            [
             0.7777777777777778,
             "#fb9f3a"
            ],
            [
             0.8888888888888888,
             "#fdca26"
            ],
            [
             1,
             "#f0f921"
            ]
           ],
           "sequentialminus": [
            [
             0,
             "#0d0887"
            ],
            [
             0.1111111111111111,
             "#46039f"
            ],
            [
             0.2222222222222222,
             "#7201a8"
            ],
            [
             0.3333333333333333,
             "#9c179e"
            ],
            [
             0.4444444444444444,
             "#bd3786"
            ],
            [
             0.5555555555555556,
             "#d8576b"
            ],
            [
             0.6666666666666666,
             "#ed7953"
            ],
            [
             0.7777777777777778,
             "#fb9f3a"
            ],
            [
             0.8888888888888888,
             "#fdca26"
            ],
            [
             1,
             "#f0f921"
            ]
           ]
          },
          "colorway": [
           "#636efa",
           "#EF553B",
           "#00cc96",
           "#ab63fa",
           "#FFA15A",
           "#19d3f3",
           "#FF6692",
           "#B6E880",
           "#FF97FF",
           "#FECB52"
          ],
          "font": {
           "color": "#2a3f5f"
          },
          "geo": {
           "bgcolor": "white",
           "lakecolor": "white",
           "landcolor": "#E5ECF6",
           "showlakes": true,
           "showland": true,
           "subunitcolor": "white"
          },
          "hoverlabel": {
           "align": "left"
          },
          "hovermode": "closest",
          "mapbox": {
           "style": "light"
          },
          "paper_bgcolor": "white",
          "plot_bgcolor": "#E5ECF6",
          "polar": {
           "angularaxis": {
            "gridcolor": "white",
            "linecolor": "white",
            "ticks": ""
           },
           "bgcolor": "#E5ECF6",
           "radialaxis": {
            "gridcolor": "white",
            "linecolor": "white",
            "ticks": ""
           }
          },
          "scene": {
           "xaxis": {
            "backgroundcolor": "#E5ECF6",
            "gridcolor": "white",
            "gridwidth": 2,
            "linecolor": "white",
            "showbackground": true,
            "ticks": "",
            "zerolinecolor": "white"
           },
           "yaxis": {
            "backgroundcolor": "#E5ECF6",
            "gridcolor": "white",
            "gridwidth": 2,
            "linecolor": "white",
            "showbackground": true,
            "ticks": "",
            "zerolinecolor": "white"
           },
           "zaxis": {
            "backgroundcolor": "#E5ECF6",
            "gridcolor": "white",
            "gridwidth": 2,
            "linecolor": "white",
            "showbackground": true,
            "ticks": "",
            "zerolinecolor": "white"
           }
          },
          "shapedefaults": {
           "line": {
            "color": "#2a3f5f"
           }
          },
          "ternary": {
           "aaxis": {
            "gridcolor": "white",
            "linecolor": "white",
            "ticks": ""
           },
           "baxis": {
            "gridcolor": "white",
            "linecolor": "white",
            "ticks": ""
           },
           "bgcolor": "#E5ECF6",
           "caxis": {
            "gridcolor": "white",
            "linecolor": "white",
            "ticks": ""
           }
          },
          "title": {
           "x": 0.05
          },
          "xaxis": {
           "automargin": true,
           "gridcolor": "white",
           "linecolor": "white",
           "ticks": "",
           "title": {
            "standoff": 15
           },
           "zerolinecolor": "white",
           "zerolinewidth": 2
          },
          "yaxis": {
           "automargin": true,
           "gridcolor": "white",
           "linecolor": "white",
           "ticks": "",
           "title": {
            "standoff": 15
           },
           "zerolinecolor": "white",
           "zerolinewidth": 2
          }
         }
        }
       }
      },
      "image/png": "[encoded data removed]",
      "text/html": [
       "<div>                            <div id=\"75ba2f08-d6bf-429d-8526-a69fce56762a\" class=\"plotly-graph-div\" style=\"height:700px; width:100%;\"></div>            <script type=\"text/javascript\">                require([\"plotly\"], function(Plotly) {                    window.PLOTLYENV=window.PLOTLYENV || {};                                    if (document.getElementById(\"75ba2f08-d6bf-429d-8526-a69fce56762a\")) {                    Plotly.newPlot(                        \"75ba2f08-d6bf-429d-8526-a69fce56762a\",                        [{\"coloraxis\":\"coloraxis\",\"hovertemplate\":\"\\u003cb\\u003e%{hovertext}\\u003c\\u002fb\\u003e\\u003cbr\\u003e\\u003cbr\\u003eridership=%{z}\\u003cbr\\u003elatitude=%{lat}\\u003cbr\\u003elongitude=%{lon}\\u003cextra\\u003e\\u003c\\u002fextra\\u003e\",\"hovertext\":[\"Times Sq-42 St (N,Q,R,W,S,1,2,3,7)\\u002f42 St (A,C,E)\",\"Grand Central-42 St (S,4,5,6,7)\",\"34 St-Herald Sq (B,D,F,M,N,Q,R,W)\",\"14 St-Union Sq (L,N,Q,R,W,4,5,6)\",\"Fulton St (A,C,J,Z,2,3,4,5)\",\"34 St-Penn Station (A,C,E)\",\"59 St-Columbus Circle (A,B,C,D,1)\",\"Flushing-Main St (7)\",\"74-Broadway (7)\\u002fJackson Hts-Roosevelt Av (E,F,M,R)\",\"34 St-Penn Station (1,2,3)\",\"Lexington Av (N,R,W)\\u002f59 St (4,5,6)\",\"Atlantic Av-Barclays Ctr (B,D,N,Q,R,2,3,4,5)\",\"86 St (4,5,6)\",\"Lexington Av-53 St (E,M)\\u002f51 St (6)\",\"Chambers St (A,C)\\u002fWTC (E)\\u002fPark Pl (2,3)\\u002fCortlandt (R,W)\",\"47-50 Sts-Rockefeller Ctr (B,D,F,M)\",\"14 St (F,M,1,2,3)\\u002f6 Av (L)\",\"14 St (A,C,E)\\u002f8 Av (L)\",\"Bryant Pk (B,D,F,M)\\u002f5 Av (7)\",\"72 St (1,2,3)\",\"96 St (1,2,3)\",\"Canal St (J,N,Q,R,W,Z,6)\",\"Jay St-MetroTech (A,C,F,R)\",\"W 4 St-Wash Sq (A,C,E,B,D,F,M)\",\"Broadway-Lafayette St (B,D,F,M)\\u002fBleecker St (6)\",\"Jamaica Center-Parsons\\u002fArcher (E,J,Z)\",\"72 St (Q)\",\"Court St (R)\\u002fBorough Hall (2,3,4,5)\",\"77 St (6)\",\"Bedford Av (L)\",\"Junction Blvd (7)\",\"Delancey St (F)\\u002fEssex St (J,M,Z)\",\"125 St (A,C,B,D)\",\"57 St-7 Av (N,Q,R,W)\",\"Crown Hts-Utica Av (3,4)\",\"1 Av (L)\",\"Forest Hills-71 Av (E,F,M,R)\",\"33 St (6)\",\"168 St (A,C,1)\",\"Kew Gardens-Union Tpke (E,F)\",\"125 St (4,5,6)\",\"Sutphin Blvd-Archer Av-JFK Airport (E,J,Z)\",\"Brooklyn Bridge-City Hall (4,5,6)\\u002fChambers St (J,Z)\",\"103 St-Corona Plaza (7)\",\"86 St (Q)\",\"Grand St (B,D)\",\"145 St (A,C,B,D)\",\"161 St-Yankee Stadium (B,D,4)\",\"23 St (F,M)\",\"Jamaica-179 St (F)\"],\"lat\":[40.75731,40.751778,40.749718,40.735737,40.710373,40.75229,40.768295,40.7596,40.74685,40.750374,40.76266,40.68446,40.77949,40.757553,40.71411,40.758663,40.738228,40.740894,40.754223,40.778454,40.79392,40.71953,40.692337,40.732338,40.725914,40.70215,40.7688,40.6941,40.77362,40.717304,40.749146,40.718613,40.811108,40.764664,40.668896,40.730953,40.72169,40.746082,40.840717,40.71444,40.80414,40.700485,40.71324,40.749866,40.77789,40.718266,40.824783,40.827995,40.742878,40.712646],\"lon\":[-73.986755,-73.976845,-73.98782,-73.98995,-74.00657,-73.99339,-73.981735,-73.83003,-73.891335,-73.99106,-73.967255,-73.97689,-73.95559,-73.969055,-74.00858,-73.98133,-73.99621,-74.00169,-73.981964,-73.98197,-73.97232,-73.99989,-73.98594,-74.000496,-73.99466,-73.80111,-73.95843,-73.99,-73.95988,-73.95687,-73.86953,-73.987434,-73.95235,-73.98066,-73.932945,-73.98163,-73.84452,-73.98208,-73.93956,-73.83101,-73.93759,-73.80797,-74.0034,-73.8627,-73.95179,-73.99375,-73.944214,-73.92565,-73.99282,-73.78381],\"name\":\"\",\"radius\":15,\"subplot\":\"mapbox\",\"z\":[477743.0,314963.0,284258.0,254626.0,203224.0,196571.0,191529.0,189028.0,184115.0,178918.0,149222.0,144194.0,142627.0,140232.0,136542.0,131860.0,122004.0,120005.0,118295.0,117461.0,114467.0,109539.0,106886.0,106004.0,105763.0,103258.0,102681.0,96931.0,92596.0,92059.0,91485.0,89175.0,87104.0,83779.0,83343.0,81654.0,81116.0,80456.0,80036.0,79261.0,79056.0,78213.0,76474.0,76356.0,76279.0,70900.0,69950.0,68490.0,68199.0,68176.0],\"type\":\"densitymapbox\"}],                        {\"template\":{\"data\":{\"histogram2dcontour\":[{\"type\":\"histogram2dcontour\",\"colorbar\":{\"outlinewidth\":0,\"ticks\":\"\"},\"colorscale\":[[0.0,\"#0d0887\"],[0.1111111111111111,\"#46039f\"],[0.2222222222222222,\"#7201a8\"],[0.3333333333333333,\"#9c179e\"],[0.4444444444444444,\"#bd3786\"],[0.5555555555555556,\"#d8576b\"],[0.6666666666666666,\"#ed7953\"],[0.7777777777777778,\"#fb9f3a\"],[0.8888888888888888,\"#fdca26\"],[1.0,\"#f0f921\"]]}],\"choropleth\":[{\"type\":\"choropleth\",\"colorbar\":{\"outlinewidth\":0,\"ticks\":\"\"}}],\"histogram2d\":[{\"type\":\"histogram2d\",\"colorbar\":{\"outlinewidth\":0,\"ticks\":\"\"},\"colorscale\":[[0.0,\"#0d0887\"],[0.1111111111111111,\"#46039f\"],[0.2222222222222222,\"#7201a8\"],[0.3333333333333333,\"#9c179e\"],[0.4444444444444444,\"#bd3786\"],[0.5555555555555556,\"#d8576b\"],[0.6666666666666666,\"#ed7953\"],[0.7777777777777778,\"#fb9f3a\"],[0.8888888888888888,\"#fdca26\"],[1.0,\"#f0f921\"]]}],\"heatmap\":[{\"type\":\"heatmap\",\"colorbar\":{\"outlinewidth\":0,\"ticks\":\"\"},\"colorscale\":[[0.0,\"#0d0887\"],[0.1111111111111111,\"#46039f\"],[0.2222222222222222,\"#7201a8\"],[0.3333333333333333,\"#9c179e\"],[0.4444444444444444,\"#bd3786\"],[0.5555555555555556,\"#d8576b\"],[0.6666666666666666,\"#ed7953\"],[0.7777777777777778,\"#fb9f3a\"],[0.8888888888888888,\"#fdca26\"],[1.0,\"#f0f921\"]]}],\"heatmapgl\":[{\"type\":\"heatmapgl\",\"colorbar\":{\"outlinewidth\":0,\"ticks\":\"\"},\"colorscale\":[[0.0,\"#0d0887\"],[0.1111111111111111,\"#46039f\"],[0.2222222222222222,\"#7201a8\"],[0.3333333333333333,\"#9c179e\"],[0.4444444444444444,\"#bd3786\"],[0.5555555555555556,\"#d8576b\"],[0.6666666666666666,\"#ed7953\"],[0.7777777777777778,\"#fb9f3a\"],[0.8888888888888888,\"#fdca26\"],[1.0,\"#f0f921\"]]}],\"contourcarpet\":[{\"type\":\"contourcarpet\",\"colorbar\":{\"outlinewidth\":0,\"ticks\":\"\"}}],\"contour\":[{\"type\":\"contour\",\"colorbar\":{\"outlinewidth\":0,\"ticks\":\"\"},\"colorscale\":[[0.0,\"#0d0887\"],[0.1111111111111111,\"#46039f\"],[0.2222222222222222,\"#7201a8\"],[0.3333333333333333,\"#9c179e\"],[0.4444444444444444,\"#bd3786\"],[0.5555555555555556,\"#d8576b\"],[0.6666666666666666,\"#ed7953\"],[0.7777777777777778,\"#fb9f3a\"],[0.8888888888888888,\"#fdca26\"],[1.0,\"#f0f921\"]]}],\"surface\":[{\"type\":\"surface\",\"colorbar\":{\"outlinewidth\":0,\"ticks\":\"\"},\"colorscale\":[[0.0,\"#0d0887\"],[0.1111111111111111,\"#46039f\"],[0.2222222222222222,\"#7201a8\"],[0.3333333333333333,\"#9c179e\"],[0.4444444444444444,\"#bd3786\"],[0.5555555555555556,\"#d8576b\"],[0.6666666666666666,\"#ed7953\"],[0.7777777777777778,\"#fb9f3a\"],[0.8888888888888888,\"#fdca26\"],[1.0,\"#f0f921\"]]}],\"mesh3d\":[{\"type\":\"mesh3d\",\"colorbar\":{\"outlinewidth\":0,\"ticks\":\"\"}}],\"scatter\":[{\"fillpattern\":{\"fillmode\":\"overlay\",\"size\":10,\"solidity\":0.2},\"type\":\"scatter\"}],\"parcoords\":[{\"type\":\"parcoords\",\"line\":{\"colorbar\":{\"outlinewidth\":0,\"ticks\":\"\"}}}],\"scatterpolargl\":[{\"type\":\"scatterpolargl\",\"marker\":{\"colorbar\":{\"outlinewidth\":0,\"ticks\":\"\"}}}],\"bar\":[{\"error_x\":{\"color\":\"#2a3f5f\"},\"error_y\":{\"color\":\"#2a3f5f\"},\"marker\":{\"line\":{\"color\":\"#E5ECF6\",\"width\":0.5},\"pattern\":{\"fillmode\":\"overlay\",\"size\":10,\"solidity\":0.2}},\"type\":\"bar\"}],\"scattergeo\":[{\"type\":\"scattergeo\",\"marker\":{\"colorbar\":{\"outlinewidth\":0,\"ticks\":\"\"}}}],\"scatterpolar\":[{\"type\":\"scatterpolar\",\"marker\":{\"colorbar\":{\"outlinewidth\":0,\"ticks\":\"\"}}}],\"histogram\":[{\"marker\":{\"pattern\":{\"fillmode\":\"overlay\",\"size\":10,\"solidity\":0.2}},\"type\":\"histogram\"}],\"scattergl\":[{\"type\":\"scattergl\",\"marker\":{\"colorbar\":{\"outlinewidth\":0,\"ticks\":\"\"}}}],\"scatter3d\":[{\"type\":\"scatter3d\",\"line\":{\"colorbar\":{\"outlinewidth\":0,\"ticks\":\"\"}},\"marker\":{\"colorbar\":{\"outlinewidth\":0,\"ticks\":\"\"}}}],\"scattermapbox\":[{\"type\":\"scattermapbox\",\"marker\":{\"colorbar\":{\"outlinewidth\":0,\"ticks\":\"\"}}}],\"scatterternary\":[{\"type\":\"scatterternary\",\"marker\":{\"colorbar\":{\"outlinewidth\":0,\"ticks\":\"\"}}}],\"scattercarpet\":[{\"type\":\"scattercarpet\",\"marker\":{\"colorbar\":{\"outlinewidth\":0,\"ticks\":\"\"}}}],\"carpet\":[{\"aaxis\":{\"endlinecolor\":\"#2a3f5f\",\"gridcolor\":\"white\",\"linecolor\":\"white\",\"minorgridcolor\":\"white\",\"startlinecolor\":\"#2a3f5f\"},\"baxis\":{\"endlinecolor\":\"#2a3f5f\",\"gridcolor\":\"white\",\"linecolor\":\"white\",\"minorgridcolor\":\"white\",\"startlinecolor\":\"#2a3f5f\"},\"type\":\"carpet\"}],\"table\":[{\"cells\":{\"fill\":{\"color\":\"#EBF0F8\"},\"line\":{\"color\":\"white\"}},\"header\":{\"fill\":{\"color\":\"#C8D4E3\"},\"line\":{\"color\":\"white\"}},\"type\":\"table\"}],\"barpolar\":[{\"marker\":{\"line\":{\"color\":\"#E5ECF6\",\"width\":0.5},\"pattern\":{\"fillmode\":\"overlay\",\"size\":10,\"solidity\":0.2}},\"type\":\"barpolar\"}],\"pie\":[{\"automargin\":true,\"type\":\"pie\"}]},\"layout\":{\"autotypenumbers\":\"strict\",\"colorway\":[\"#636efa\",\"#EF553B\",\"#00cc96\",\"#ab63fa\",\"#FFA15A\",\"#19d3f3\",\"#FF6692\",\"#B6E880\",\"#FF97FF\",\"#FECB52\"],\"font\":{\"color\":\"#2a3f5f\"},\"hovermode\":\"closest\",\"hoverlabel\":{\"align\":\"left\"},\"paper_bgcolor\":\"white\",\"plot_bgcolor\":\"#E5ECF6\",\"polar\":{\"bgcolor\":\"#E5ECF6\",\"angularaxis\":{\"gridcolor\":\"white\",\"linecolor\":\"white\",\"ticks\":\"\"},\"radialaxis\":{\"gridcolor\":\"white\",\"linecolor\":\"white\",\"ticks\":\"\"}},\"ternary\":{\"bgcolor\":\"#E5ECF6\",\"aaxis\":{\"gridcolor\":\"white\",\"linecolor\":\"white\",\"ticks\":\"\"},\"baxis\":{\"gridcolor\":\"white\",\"linecolor\":\"white\",\"ticks\":\"\"},\"caxis\":{\"gridcolor\":\"white\",\"linecolor\":\"white\",\"ticks\":\"\"}},\"coloraxis\":{\"colorbar\":{\"outlinewidth\":0,\"ticks\":\"\"}},\"colorscale\":{\"sequential\":[[0.0,\"#0d0887\"],[0.1111111111111111,\"#46039f\"],[0.2222222222222222,\"#7201a8\"],[0.3333333333333333,\"#9c179e\"],[0.4444444444444444,\"#bd3786\"],[0.5555555555555556,\"#d8576b\"],[0.6666666666666666,\"#ed7953\"],[0.7777777777777778,\"#fb9f3a\"],[0.8888888888888888,\"#fdca26\"],[1.0,\"#f0f921\"]],\"sequentialminus\":[[0.0,\"#0d0887\"],[0.1111111111111111,\"#46039f\"],[0.2222222222222222,\"#7201a8\"],[0.3333333333333333,\"#9c179e\"],[0.4444444444444444,\"#bd3786\"],[0.5555555555555556,\"#d8576b\"],[0.6666666666666666,\"#ed7953\"],[0.7777777777777778,\"#fb9f3a\"],[0.8888888888888888,\"#fdca26\"],[1.0,\"#f0f921\"]],\"diverging\":[[0,\"#8e0152\"],[0.1,\"#c51b7d\"],[0.2,\"#de77ae\"],[0.3,\"#f1b6da\"],[0.4,\"#fde0ef\"],[0.5,\"#f7f7f7\"],[0.6,\"#e6f5d0\"],[0.7,\"#b8e186\"],[0.8,\"#7fbc41\"],[0.9,\"#4d9221\"],[1,\"#276419\"]]},\"xaxis\":{\"gridcolor\":\"white\",\"linecolor\":\"white\",\"ticks\":\"\",\"title\":{\"standoff\":15},\"zerolinecolor\":\"white\",\"automargin\":true,\"zerolinewidth\":2},\"yaxis\":{\"gridcolor\":\"white\",\"linecolor\":\"white\",\"ticks\":\"\",\"title\":{\"standoff\":15},\"zerolinecolor\":\"white\",\"automargin\":true,\"zerolinewidth\":2},\"scene\":{\"xaxis\":{\"backgroundcolor\":\"#E5ECF6\",\"gridcolor\":\"white\",\"linecolor\":\"white\",\"showbackground\":true,\"ticks\":\"\",\"zerolinecolor\":\"white\",\"gridwidth\":2},\"yaxis\":{\"backgroundcolor\":\"#E5ECF6\",\"gridcolor\":\"white\",\"linecolor\":\"white\",\"showbackground\":true,\"ticks\":\"\",\"zerolinecolor\":\"white\",\"gridwidth\":2},\"zaxis\":{\"backgroundcolor\":\"#E5ECF6\",\"gridcolor\":\"white\",\"linecolor\":\"white\",\"showbackground\":true,\"ticks\":\"\",\"zerolinecolor\":\"white\",\"gridwidth\":2}},\"shapedefaults\":{\"line\":{\"color\":\"#2a3f5f\"}},\"annotationdefaults\":{\"arrowcolor\":\"#2a3f5f\",\"arrowhead\":0,\"arrowwidth\":1},\"geo\":{\"bgcolor\":\"white\",\"landcolor\":\"#E5ECF6\",\"subunitcolor\":\"white\",\"showland\":true,\"showlakes\":true,\"lakecolor\":\"white\"},\"title\":{\"x\":0.05},\"mapbox\":{\"style\":\"light\"}}},\"mapbox\":{\"domain\":{\"x\":[0.0,1.0],\"y\":[0.0,1.0]},\"center\":{\"lat\":40.74619142,\"lon\":-73.95162066},\"zoom\":10,\"style\":\"open-street-map\"},\"coloraxis\":{\"colorbar\":{\"title\":{\"text\":\"ridership\"}},\"colorscale\":[[0.0,\"#0d0887\"],[0.1111111111111111,\"#46039f\"],[0.2222222222222222,\"#7201a8\"],[0.3333333333333333,\"#9c179e\"],[0.4444444444444444,\"#bd3786\"],[0.5555555555555556,\"#d8576b\"],[0.6666666666666666,\"#ed7953\"],[0.7777777777777778,\"#fb9f3a\"],[0.8888888888888888,\"#fdca26\"],[1.0,\"#f0f921\"]]},\"legend\":{\"tracegroupgap\":0},\"margin\":{\"t\":60},\"height\":700},                        {\"responsive\": true}                    ).then(function(){\n",
       "                            \n",
       "var gd = document.getElementById('75ba2f08-d6bf-429d-8526-a69fce56762a');\n",
       "var x = new MutationObserver(function (mutations, observer) {{\n",
       "        var display = window.getComputedStyle(gd).display;\n",
       "        if (!display || display === 'none') {{\n",
       "            console.log([gd, 'removed!']);\n",
       "            Plotly.purge(gd);\n",
       "            observer.disconnect();\n",
       "        }}\n",
       "}});\n",
       "\n",
       "// Listen for the removal of the full notebook cells\n",
       "var notebookContainer = gd.closest('#notebook-container');\n",
       "if (notebookContainer) {{\n",
       "    x.observe(notebookContainer, {childList: true});\n",
       "}}\n",
       "\n",
       "// Listen for the clearing of the current output cell\n",
       "var outputEl = gd.closest('.output');\n",
       "if (outputEl) {{\n",
       "    x.observe(outputEl, {childList: true});\n",
       "}}\n",
       "\n",
       "                        })                };                });            </script>        </div>"
      ]
     },
     "metadata": {},
     "output_type": "display_data"
    }
   ],
   "source": [
    "fig=px.density_mapbox(\n",
    "    agg_jan_df.sort_values(by='ridership',ascending=False).head(50),\n",
    "    lat='latitude',\n",
    "    lon='longitude',\n",
    "    z='ridership',\n",
    "    hover_name='station_complex',\n",
    "    radius=15,\n",
    "    zoom=10,\n",
    "    mapbox_style=\"open-street-map\",\n",
    "    height=700\n",
    ")\n",
    "\n",
    "fig.show()\n",
    "fig.write_image(\"top50_subway_heatmap_jan22.png\")"
   ]
  },
  {
   "cell_type": "code",
   "execution_count": null,
   "id": "8d841d18-d6e4-4f02-9760-fba5046fbb1d",
   "metadata": {},
   "outputs": [],
   "source": []
  },
  {
   "cell_type": "code",
   "execution_count": 63,
   "id": "24a9bc85-b065-4678-a91c-a243c63b907a",
   "metadata": {},
   "outputs": [],
   "source": [
    "#px.scatter_mapbox?"
   ]
  },
  {
   "cell_type": "code",
   "execution_count": null,
   "id": "b2583623-6041-41ff-8079-31458fdb02fd",
   "metadata": {},
   "outputs": [],
   "source": []
  },
  {
   "cell_type": "code",
   "execution_count": null,
   "id": "40d096fb-b947-4d97-b537-e8b56c6d450d",
   "metadata": {},
   "outputs": [],
   "source": []
  },
  {
   "cell_type": "code",
   "execution_count": 56,
   "id": "731ef510-6411-4d64-9333-7b346982836d",
   "metadata": {},
   "outputs": [],
   "source": [
    "#px.scatter_mapbox?"
   ]
  },
  {
   "cell_type": "code",
   "execution_count": 64,
   "id": "24e734fe-065d-401e-b947-3a2cfda1e6e3",
   "metadata": {
    "scrolled": true
   },
   "outputs": [
    {
     "data": {
      "application/vnd.plotly.v1+json": {
       "config": {
        "plotlyServerURL": "https://plot.ly"
       },
       "data": [
        {
         "hovertemplate": "<b>%{hovertext}</b><br><br>ridership=%{marker.color}<br>latitude=%{lat}<br>longitude=%{lon}<extra></extra>",
         "hovertext": [
          "Times Sq-42 St (N,Q,R,W,S,1,2,3,7)/42 St (A,C,E)",
          "Grand Central-42 St (S,4,5,6,7)",
          "34 St-Herald Sq (B,D,F,M,N,Q,R,W)",
          "14 St-Union Sq (L,N,Q,R,W,4,5,6)",
          "Fulton St (A,C,J,Z,2,3,4,5)",
          "34 St-Penn Station (A,C,E)",
          "59 St-Columbus Circle (A,B,C,D,1)",
          "Flushing-Main St (7)",
          "74-Broadway (7)/Jackson Hts-Roosevelt Av (E,F,M,R)",
          "34 St-Penn Station (1,2,3)",
          "Lexington Av (N,R,W)/59 St (4,5,6)",
          "Atlantic Av-Barclays Ctr (B,D,N,Q,R,2,3,4,5)",
          "86 St (4,5,6)",
          "Lexington Av-53 St (E,M)/51 St (6)",
          "Chambers St (A,C)/WTC (E)/Park Pl (2,3)/Cortlandt (R,W)",
          "47-50 Sts-Rockefeller Ctr (B,D,F,M)",
          "14 St (F,M,1,2,3)/6 Av (L)",
          "14 St (A,C,E)/8 Av (L)",
          "Bryant Pk (B,D,F,M)/5 Av (7)",
          "72 St (1,2,3)",
          "96 St (1,2,3)",
          "Canal St (J,N,Q,R,W,Z,6)",
          "Jay St-MetroTech (A,C,F,R)",
          "W 4 St-Wash Sq (A,C,E,B,D,F,M)",
          "Broadway-Lafayette St (B,D,F,M)/Bleecker St (6)",
          "Jamaica Center-Parsons/Archer (E,J,Z)",
          "72 St (Q)",
          "Court St (R)/Borough Hall (2,3,4,5)",
          "77 St (6)",
          "Bedford Av (L)",
          "Junction Blvd (7)",
          "Delancey St (F)/Essex St (J,M,Z)",
          "125 St (A,C,B,D)",
          "57 St-7 Av (N,Q,R,W)",
          "Crown Hts-Utica Av (3,4)",
          "1 Av (L)",
          "Forest Hills-71 Av (E,F,M,R)",
          "33 St (6)",
          "168 St (A,C,1)",
          "Kew Gardens-Union Tpke (E,F)",
          "125 St (4,5,6)",
          "Sutphin Blvd-Archer Av-JFK Airport (E,J,Z)",
          "Brooklyn Bridge-City Hall (4,5,6)/Chambers St (J,Z)",
          "103 St-Corona Plaza (7)",
          "86 St (Q)",
          "Grand St (B,D)",
          "145 St (A,C,B,D)",
          "161 St-Yankee Stadium (B,D,4)",
          "23 St (F,M)",
          "Jamaica-179 St (F)"
         ],
         "lat": [
          40.75731,
          40.751778,
          40.749718,
          40.735737,
          40.710373,
          40.75229,
          40.768295,
          40.7596,
          40.74685,
          40.750374,
          40.76266,
          40.68446,
          40.77949,
          40.757553,
          40.71411,
          40.758663,
          40.738228,
          40.740894,
          40.754223,
          40.778454,
          40.79392,
          40.71953,
          40.692337,
          40.732338,
          40.725914,
          40.70215,
          40.7688,
          40.6941,
          40.77362,
          40.717304,
          40.749146,
          40.718613,
          40.811108,
          40.764664,
          40.668896,
          40.730953,
          40.72169,
          40.746082,
          40.840717,
          40.71444,
          40.80414,
          40.700485,
          40.71324,
          40.749866,
          40.77789,
          40.718266,
          40.824783,
          40.827995,
          40.742878,
          40.712646
         ],
         "legendgroup": "",
         "lon": [
          -73.986755,
          -73.976845,
          -73.98782,
          -73.98995,
          -74.00657,
          -73.99339,
          -73.981735,
          -73.83003,
          -73.891335,
          -73.99106,
          -73.967255,
          -73.97689,
          -73.95559,
          -73.969055,
          -74.00858,
          -73.98133,
          -73.99621,
          -74.00169,
          -73.981964,
          -73.98197,
          -73.97232,
          -73.99989,
          -73.98594,
          -74.000496,
          -73.99466,
          -73.80111,
          -73.95843,
          -73.99,
          -73.95988,
          -73.95687,
          -73.86953,
          -73.987434,
          -73.95235,
          -73.98066,
          -73.932945,
          -73.98163,
          -73.84452,
          -73.98208,
          -73.93956,
          -73.83101,
          -73.93759,
          -73.80797,
          -74.0034,
          -73.8627,
          -73.95179,
          -73.99375,
          -73.944214,
          -73.92565,
          -73.99282,
          -73.78381
         ],
         "marker": {
          "color": [
           477743,
           314963,
           284258,
           254626,
           203224,
           196571,
           191529,
           189028,
           184115,
           178918,
           149222,
           144194,
           142627,
           140232,
           136542,
           131860,
           122004,
           120005,
           118295,
           117461,
           114467,
           109539,
           106886,
           106004,
           105763,
           103258,
           102681,
           96931,
           92596,
           92059,
           91485,
           89175,
           87104,
           83779,
           83343,
           81654,
           81116,
           80456,
           80036,
           79261,
           79056,
           78213,
           76474,
           76356,
           76279,
           70900,
           69950,
           68490,
           68199,
           68176
          ],
          "coloraxis": "coloraxis",
          "size": [
           477743,
           314963,
           284258,
           254626,
           203224,
           196571,
           191529,
           189028,
           184115,
           178918,
           149222,
           144194,
           142627,
           140232,
           136542,
           131860,
           122004,
           120005,
           118295,
           117461,
           114467,
           109539,
           106886,
           106004,
           105763,
           103258,
           102681,
           96931,
           92596,
           92059,
           91485,
           89175,
           87104,
           83779,
           83343,
           81654,
           81116,
           80456,
           80036,
           79261,
           79056,
           78213,
           76474,
           76356,
           76279,
           70900,
           69950,
           68490,
           68199,
           68176
          ],
          "sizemode": "area",
          "sizeref": 1194.3575
         },
         "mode": "markers",
         "name": "",
         "showlegend": false,
         "subplot": "mapbox",
         "type": "scattermapbox"
        }
       ],
       "layout": {
        "autosize": true,
        "coloraxis": {
         "colorbar": {
          "title": {
           "text": "ridership"
          }
         },
         "colorscale": [
          [
           0,
           "#0d0887"
          ],
          [
           0.1111111111111111,
           "#46039f"
          ],
          [
           0.2222222222222222,
           "#7201a8"
          ],
          [
           0.3333333333333333,
           "#9c179e"
          ],
          [
           0.4444444444444444,
           "#bd3786"
          ],
          [
           0.5555555555555556,
           "#d8576b"
          ],
          [
           0.6666666666666666,
           "#ed7953"
          ],
          [
           0.7777777777777778,
           "#fb9f3a"
          ],
          [
           0.8888888888888888,
           "#fdca26"
          ],
          [
           1,
           "#f0f921"
          ]
         ]
        },
        "legend": {
         "itemsizing": "constant",
         "tracegroupgap": 0
        },
        "mapbox": {
         "center": {
          "lat": 40.74619142,
          "lon": -73.95162066
         },
         "domain": {
          "x": [
           0,
           1
          ],
          "y": [
           0,
           1
          ]
         },
         "style": "open-street-map",
         "zoom": 10
        },
        "margin": {
         "t": 60
        },
        "template": {
         "data": {
          "bar": [
           {
            "error_x": {
             "color": "#2a3f5f"
            },
            "error_y": {
             "color": "#2a3f5f"
            },
            "marker": {
             "line": {
              "color": "#E5ECF6",
              "width": 0.5
             },
             "pattern": {
              "fillmode": "overlay",
              "size": 10,
              "solidity": 0.2
             }
            },
            "type": "bar"
           }
          ],
          "barpolar": [
           {
            "marker": {
             "line": {
              "color": "#E5ECF6",
              "width": 0.5
             },
             "pattern": {
              "fillmode": "overlay",
              "size": 10,
              "solidity": 0.2
             }
            },
            "type": "barpolar"
           }
          ],
          "carpet": [
           {
            "aaxis": {
             "endlinecolor": "#2a3f5f",
             "gridcolor": "white",
             "linecolor": "white",
             "minorgridcolor": "white",
             "startlinecolor": "#2a3f5f"
            },
            "baxis": {
             "endlinecolor": "#2a3f5f",
             "gridcolor": "white",
             "linecolor": "white",
             "minorgridcolor": "white",
             "startlinecolor": "#2a3f5f"
            },
            "type": "carpet"
           }
          ],
          "choropleth": [
           {
            "colorbar": {
             "outlinewidth": 0,
             "ticks": ""
            },
            "type": "choropleth"
           }
          ],
          "contour": [
           {
            "colorbar": {
             "outlinewidth": 0,
             "ticks": ""
            },
            "colorscale": [
             [
              0,
              "#0d0887"
             ],
             [
              0.1111111111111111,
              "#46039f"
             ],
             [
              0.2222222222222222,
              "#7201a8"
             ],
             [
              0.3333333333333333,
              "#9c179e"
             ],
             [
              0.4444444444444444,
              "#bd3786"
             ],
             [
              0.5555555555555556,
              "#d8576b"
             ],
             [
              0.6666666666666666,
              "#ed7953"
             ],
             [
              0.7777777777777778,
              "#fb9f3a"
             ],
             [
              0.8888888888888888,
              "#fdca26"
             ],
             [
              1,
              "#f0f921"
             ]
            ],
            "type": "contour"
           }
          ],
          "contourcarpet": [
           {
            "colorbar": {
             "outlinewidth": 0,
             "ticks": ""
            },
            "type": "contourcarpet"
           }
          ],
          "heatmap": [
           {
            "colorbar": {
             "outlinewidth": 0,
             "ticks": ""
            },
            "colorscale": [
             [
              0,
              "#0d0887"
             ],
             [
              0.1111111111111111,
              "#46039f"
             ],
             [
              0.2222222222222222,
              "#7201a8"
             ],
             [
              0.3333333333333333,
              "#9c179e"
             ],
             [
              0.4444444444444444,
              "#bd3786"
             ],
             [
              0.5555555555555556,
              "#d8576b"
             ],
             [
              0.6666666666666666,
              "#ed7953"
             ],
             [
              0.7777777777777778,
              "#fb9f3a"
             ],
             [
              0.8888888888888888,
              "#fdca26"
             ],
             [
              1,
              "#f0f921"
             ]
            ],
            "type": "heatmap"
           }
          ],
          "heatmapgl": [
           {
            "colorbar": {
             "outlinewidth": 0,
             "ticks": ""
            },
            "colorscale": [
             [
              0,
              "#0d0887"
             ],
             [
              0.1111111111111111,
              "#46039f"
             ],
             [
              0.2222222222222222,
              "#7201a8"
             ],
             [
              0.3333333333333333,
              "#9c179e"
             ],
             [
              0.4444444444444444,
              "#bd3786"
             ],
             [
              0.5555555555555556,
              "#d8576b"
             ],
             [
              0.6666666666666666,
              "#ed7953"
             ],
             [
              0.7777777777777778,
              "#fb9f3a"
             ],
             [
              0.8888888888888888,
              "#fdca26"
             ],
             [
              1,
              "#f0f921"
             ]
            ],
            "type": "heatmapgl"
           }
          ],
          "histogram": [
           {
            "marker": {
             "pattern": {
              "fillmode": "overlay",
              "size": 10,
              "solidity": 0.2
             }
            },
            "type": "histogram"
           }
          ],
          "histogram2d": [
           {
            "colorbar": {
             "outlinewidth": 0,
             "ticks": ""
            },
            "colorscale": [
             [
              0,
              "#0d0887"
             ],
             [
              0.1111111111111111,
              "#46039f"
             ],
             [
              0.2222222222222222,
              "#7201a8"
             ],
             [
              0.3333333333333333,
              "#9c179e"
             ],
             [
              0.4444444444444444,
              "#bd3786"
             ],
             [
              0.5555555555555556,
              "#d8576b"
             ],
             [
              0.6666666666666666,
              "#ed7953"
             ],
             [
              0.7777777777777778,
              "#fb9f3a"
             ],
             [
              0.8888888888888888,
              "#fdca26"
             ],
             [
              1,
              "#f0f921"
             ]
            ],
            "type": "histogram2d"
           }
          ],
          "histogram2dcontour": [
           {
            "colorbar": {
             "outlinewidth": 0,
             "ticks": ""
            },
            "colorscale": [
             [
              0,
              "#0d0887"
             ],
             [
              0.1111111111111111,
              "#46039f"
             ],
             [
              0.2222222222222222,
              "#7201a8"
             ],
             [
              0.3333333333333333,
              "#9c179e"
             ],
             [
              0.4444444444444444,
              "#bd3786"
             ],
             [
              0.5555555555555556,
              "#d8576b"
             ],
             [
              0.6666666666666666,
              "#ed7953"
             ],
             [
              0.7777777777777778,
              "#fb9f3a"
             ],
             [
              0.8888888888888888,
              "#fdca26"
             ],
             [
              1,
              "#f0f921"
             ]
            ],
            "type": "histogram2dcontour"
           }
          ],
          "mesh3d": [
           {
            "colorbar": {
             "outlinewidth": 0,
             "ticks": ""
            },
            "type": "mesh3d"
           }
          ],
          "parcoords": [
           {
            "line": {
             "colorbar": {
              "outlinewidth": 0,
              "ticks": ""
             }
            },
            "type": "parcoords"
           }
          ],
          "pie": [
           {
            "automargin": true,
            "type": "pie"
           }
          ],
          "scatter": [
           {
            "fillpattern": {
             "fillmode": "overlay",
             "size": 10,
             "solidity": 0.2
            },
            "type": "scatter"
           }
          ],
          "scatter3d": [
           {
            "line": {
             "colorbar": {
              "outlinewidth": 0,
              "ticks": ""
             }
            },
            "marker": {
             "colorbar": {
              "outlinewidth": 0,
              "ticks": ""
             }
            },
            "type": "scatter3d"
           }
          ],
          "scattercarpet": [
           {
            "marker": {
             "colorbar": {
              "outlinewidth": 0,
              "ticks": ""
             }
            },
            "type": "scattercarpet"
           }
          ],
          "scattergeo": [
           {
            "marker": {
             "colorbar": {
              "outlinewidth": 0,
              "ticks": ""
             }
            },
            "type": "scattergeo"
           }
          ],
          "scattergl": [
           {
            "marker": {
             "colorbar": {
              "outlinewidth": 0,
              "ticks": ""
             }
            },
            "type": "scattergl"
           }
          ],
          "scattermapbox": [
           {
            "marker": {
             "colorbar": {
              "outlinewidth": 0,
              "ticks": ""
             }
            },
            "type": "scattermapbox"
           }
          ],
          "scatterpolar": [
           {
            "marker": {
             "colorbar": {
              "outlinewidth": 0,
              "ticks": ""
             }
            },
            "type": "scatterpolar"
           }
          ],
          "scatterpolargl": [
           {
            "marker": {
             "colorbar": {
              "outlinewidth": 0,
              "ticks": ""
             }
            },
            "type": "scatterpolargl"
           }
          ],
          "scatterternary": [
           {
            "marker": {
             "colorbar": {
              "outlinewidth": 0,
              "ticks": ""
             }
            },
            "type": "scatterternary"
           }
          ],
          "surface": [
           {
            "colorbar": {
             "outlinewidth": 0,
             "ticks": ""
            },
            "colorscale": [
             [
              0,
              "#0d0887"
             ],
             [
              0.1111111111111111,
              "#46039f"
             ],
             [
              0.2222222222222222,
              "#7201a8"
             ],
             [
              0.3333333333333333,
              "#9c179e"
             ],
             [
              0.4444444444444444,
              "#bd3786"
             ],
             [
              0.5555555555555556,
              "#d8576b"
             ],
             [
              0.6666666666666666,
              "#ed7953"
             ],
             [
              0.7777777777777778,
              "#fb9f3a"
             ],
             [
              0.8888888888888888,
              "#fdca26"
             ],
             [
              1,
              "#f0f921"
             ]
            ],
            "type": "surface"
           }
          ],
          "table": [
           {
            "cells": {
             "fill": {
              "color": "#EBF0F8"
             },
             "line": {
              "color": "white"
             }
            },
            "header": {
             "fill": {
              "color": "#C8D4E3"
             },
             "line": {
              "color": "white"
             }
            },
            "type": "table"
           }
          ]
         },
         "layout": {
          "annotationdefaults": {
           "arrowcolor": "#2a3f5f",
           "arrowhead": 0,
           "arrowwidth": 1
          },
          "autotypenumbers": "strict",
          "coloraxis": {
           "colorbar": {
            "outlinewidth": 0,
            "ticks": ""
           }
          },
          "colorscale": {
           "diverging": [
            [
             0,
             "#8e0152"
            ],
            [
             0.1,
             "#c51b7d"
            ],
            [
             0.2,
             "#de77ae"
            ],
            [
             0.3,
             "#f1b6da"
            ],
            [
             0.4,
             "#fde0ef"
            ],
            [
             0.5,
             "#f7f7f7"
            ],
            [
             0.6,
             "#e6f5d0"
            ],
            [
             0.7,
             "#b8e186"
            ],
            [
             0.8,
             "#7fbc41"
            ],
            [
             0.9,
             "#4d9221"
            ],
            [
             1,
             "#276419"
            ]
           ],
           "sequential": [
            [
             0,
             "#0d0887"
            ],
            [
             0.1111111111111111,
             "#46039f"
            ],
            [
             0.2222222222222222,
             "#7201a8"
            ],
            [
             0.3333333333333333,
             "#9c179e"
            ],
            [
             0.4444444444444444,
             "#bd3786"
            ],
            [
             0.5555555555555556,
             "#d8576b"
            ],
            [
             0.6666666666666666,
             "#ed7953"
            ],
            [
             0.7777777777777778,
             "#fb9f3a"
            ],
            [
             0.8888888888888888,
             "#fdca26"
            ],
            [
             1,
             "#f0f921"
            ]
           ],
           "sequentialminus": [
            [
             0,
             "#0d0887"
            ],
            [
             0.1111111111111111,
             "#46039f"
            ],
            [
             0.2222222222222222,
             "#7201a8"
            ],
            [
             0.3333333333333333,
             "#9c179e"
            ],
            [
             0.4444444444444444,
             "#bd3786"
            ],
            [
             0.5555555555555556,
             "#d8576b"
            ],
            [
             0.6666666666666666,
             "#ed7953"
            ],
            [
             0.7777777777777778,
             "#fb9f3a"
            ],
            [
             0.8888888888888888,
             "#fdca26"
            ],
            [
             1,
             "#f0f921"
            ]
           ]
          },
          "colorway": [
           "#636efa",
           "#EF553B",
           "#00cc96",
           "#ab63fa",
           "#FFA15A",
           "#19d3f3",
           "#FF6692",
           "#B6E880",
           "#FF97FF",
           "#FECB52"
          ],
          "font": {
           "color": "#2a3f5f"
          },
          "geo": {
           "bgcolor": "white",
           "lakecolor": "white",
           "landcolor": "#E5ECF6",
           "showlakes": true,
           "showland": true,
           "subunitcolor": "white"
          },
          "hoverlabel": {
           "align": "left"
          },
          "hovermode": "closest",
          "mapbox": {
           "style": "light"
          },
          "paper_bgcolor": "white",
          "plot_bgcolor": "#E5ECF6",
          "polar": {
           "angularaxis": {
            "gridcolor": "white",
            "linecolor": "white",
            "ticks": ""
           },
           "bgcolor": "#E5ECF6",
           "radialaxis": {
            "gridcolor": "white",
            "linecolor": "white",
            "ticks": ""
           }
          },
          "scene": {
           "xaxis": {
            "backgroundcolor": "#E5ECF6",
            "gridcolor": "white",
            "gridwidth": 2,
            "linecolor": "white",
            "showbackground": true,
            "ticks": "",
            "zerolinecolor": "white"
           },
           "yaxis": {
            "backgroundcolor": "#E5ECF6",
            "gridcolor": "white",
            "gridwidth": 2,
            "linecolor": "white",
            "showbackground": true,
            "ticks": "",
            "zerolinecolor": "white"
           },
           "zaxis": {
            "backgroundcolor": "#E5ECF6",
            "gridcolor": "white",
            "gridwidth": 2,
            "linecolor": "white",
            "showbackground": true,
            "ticks": "",
            "zerolinecolor": "white"
           }
          },
          "shapedefaults": {
           "line": {
            "color": "#2a3f5f"
           }
          },
          "ternary": {
           "aaxis": {
            "gridcolor": "white",
            "linecolor": "white",
            "ticks": ""
           },
           "baxis": {
            "gridcolor": "white",
            "linecolor": "white",
            "ticks": ""
           },
           "bgcolor": "#E5ECF6",
           "caxis": {
            "gridcolor": "white",
            "linecolor": "white",
            "ticks": ""
           }
          },
          "title": {
           "x": 0.05
          },
          "xaxis": {
           "automargin": true,
           "gridcolor": "white",
           "linecolor": "white",
           "ticks": "",
           "title": {
            "standoff": 15
           },
           "zerolinecolor": "white",
           "zerolinewidth": 2
          },
          "yaxis": {
           "automargin": true,
           "gridcolor": "white",
           "linecolor": "white",
           "ticks": "",
           "title": {
            "standoff": 15
           },
           "zerolinecolor": "white",
           "zerolinewidth": 2
          }
         }
        }
       }
      },
      "image/png": "[encoded data removed]",
      "text/html": [
       "<div>                            <div id=\"1f91d6c1-2ad3-4c04-aaa0-cf984c80b992\" class=\"plotly-graph-div\" style=\"height:700px; width:100%;\"></div>            <script type=\"text/javascript\">                require([\"plotly\"], function(Plotly) {                    window.PLOTLYENV=window.PLOTLYENV || {};                                    if (document.getElementById(\"1f91d6c1-2ad3-4c04-aaa0-cf984c80b992\")) {                    Plotly.newPlot(                        \"1f91d6c1-2ad3-4c04-aaa0-cf984c80b992\",                        [{\"hovertemplate\":\"\\u003cb\\u003e%{hovertext}\\u003c\\u002fb\\u003e\\u003cbr\\u003e\\u003cbr\\u003eridership=%{marker.color}\\u003cbr\\u003elatitude=%{lat}\\u003cbr\\u003elongitude=%{lon}\\u003cextra\\u003e\\u003c\\u002fextra\\u003e\",\"hovertext\":[\"Times Sq-42 St (N,Q,R,W,S,1,2,3,7)\\u002f42 St (A,C,E)\",\"Grand Central-42 St (S,4,5,6,7)\",\"34 St-Herald Sq (B,D,F,M,N,Q,R,W)\",\"14 St-Union Sq (L,N,Q,R,W,4,5,6)\",\"Fulton St (A,C,J,Z,2,3,4,5)\",\"34 St-Penn Station (A,C,E)\",\"59 St-Columbus Circle (A,B,C,D,1)\",\"Flushing-Main St (7)\",\"74-Broadway (7)\\u002fJackson Hts-Roosevelt Av (E,F,M,R)\",\"34 St-Penn Station (1,2,3)\",\"Lexington Av (N,R,W)\\u002f59 St (4,5,6)\",\"Atlantic Av-Barclays Ctr (B,D,N,Q,R,2,3,4,5)\",\"86 St (4,5,6)\",\"Lexington Av-53 St (E,M)\\u002f51 St (6)\",\"Chambers St (A,C)\\u002fWTC (E)\\u002fPark Pl (2,3)\\u002fCortlandt (R,W)\",\"47-50 Sts-Rockefeller Ctr (B,D,F,M)\",\"14 St (F,M,1,2,3)\\u002f6 Av (L)\",\"14 St (A,C,E)\\u002f8 Av (L)\",\"Bryant Pk (B,D,F,M)\\u002f5 Av (7)\",\"72 St (1,2,3)\",\"96 St (1,2,3)\",\"Canal St (J,N,Q,R,W,Z,6)\",\"Jay St-MetroTech (A,C,F,R)\",\"W 4 St-Wash Sq (A,C,E,B,D,F,M)\",\"Broadway-Lafayette St (B,D,F,M)\\u002fBleecker St (6)\",\"Jamaica Center-Parsons\\u002fArcher (E,J,Z)\",\"72 St (Q)\",\"Court St (R)\\u002fBorough Hall (2,3,4,5)\",\"77 St (6)\",\"Bedford Av (L)\",\"Junction Blvd (7)\",\"Delancey St (F)\\u002fEssex St (J,M,Z)\",\"125 St (A,C,B,D)\",\"57 St-7 Av (N,Q,R,W)\",\"Crown Hts-Utica Av (3,4)\",\"1 Av (L)\",\"Forest Hills-71 Av (E,F,M,R)\",\"33 St (6)\",\"168 St (A,C,1)\",\"Kew Gardens-Union Tpke (E,F)\",\"125 St (4,5,6)\",\"Sutphin Blvd-Archer Av-JFK Airport (E,J,Z)\",\"Brooklyn Bridge-City Hall (4,5,6)\\u002fChambers St (J,Z)\",\"103 St-Corona Plaza (7)\",\"86 St (Q)\",\"Grand St (B,D)\",\"145 St (A,C,B,D)\",\"161 St-Yankee Stadium (B,D,4)\",\"23 St (F,M)\",\"Jamaica-179 St (F)\"],\"lat\":[40.75731,40.751778,40.749718,40.735737,40.710373,40.75229,40.768295,40.7596,40.74685,40.750374,40.76266,40.68446,40.77949,40.757553,40.71411,40.758663,40.738228,40.740894,40.754223,40.778454,40.79392,40.71953,40.692337,40.732338,40.725914,40.70215,40.7688,40.6941,40.77362,40.717304,40.749146,40.718613,40.811108,40.764664,40.668896,40.730953,40.72169,40.746082,40.840717,40.71444,40.80414,40.700485,40.71324,40.749866,40.77789,40.718266,40.824783,40.827995,40.742878,40.712646],\"legendgroup\":\"\",\"lon\":[-73.986755,-73.976845,-73.98782,-73.98995,-74.00657,-73.99339,-73.981735,-73.83003,-73.891335,-73.99106,-73.967255,-73.97689,-73.95559,-73.969055,-74.00858,-73.98133,-73.99621,-74.00169,-73.981964,-73.98197,-73.97232,-73.99989,-73.98594,-74.000496,-73.99466,-73.80111,-73.95843,-73.99,-73.95988,-73.95687,-73.86953,-73.987434,-73.95235,-73.98066,-73.932945,-73.98163,-73.84452,-73.98208,-73.93956,-73.83101,-73.93759,-73.80797,-74.0034,-73.8627,-73.95179,-73.99375,-73.944214,-73.92565,-73.99282,-73.78381],\"marker\":{\"color\":[477743.0,314963.0,284258.0,254626.0,203224.0,196571.0,191529.0,189028.0,184115.0,178918.0,149222.0,144194.0,142627.0,140232.0,136542.0,131860.0,122004.0,120005.0,118295.0,117461.0,114467.0,109539.0,106886.0,106004.0,105763.0,103258.0,102681.0,96931.0,92596.0,92059.0,91485.0,89175.0,87104.0,83779.0,83343.0,81654.0,81116.0,80456.0,80036.0,79261.0,79056.0,78213.0,76474.0,76356.0,76279.0,70900.0,69950.0,68490.0,68199.0,68176.0],\"coloraxis\":\"coloraxis\",\"size\":[477743.0,314963.0,284258.0,254626.0,203224.0,196571.0,191529.0,189028.0,184115.0,178918.0,149222.0,144194.0,142627.0,140232.0,136542.0,131860.0,122004.0,120005.0,118295.0,117461.0,114467.0,109539.0,106886.0,106004.0,105763.0,103258.0,102681.0,96931.0,92596.0,92059.0,91485.0,89175.0,87104.0,83779.0,83343.0,81654.0,81116.0,80456.0,80036.0,79261.0,79056.0,78213.0,76474.0,76356.0,76279.0,70900.0,69950.0,68490.0,68199.0,68176.0],\"sizemode\":\"area\",\"sizeref\":1194.3575},\"mode\":\"markers\",\"name\":\"\",\"showlegend\":false,\"subplot\":\"mapbox\",\"type\":\"scattermapbox\"}],                        {\"template\":{\"data\":{\"histogram2dcontour\":[{\"type\":\"histogram2dcontour\",\"colorbar\":{\"outlinewidth\":0,\"ticks\":\"\"},\"colorscale\":[[0.0,\"#0d0887\"],[0.1111111111111111,\"#46039f\"],[0.2222222222222222,\"#7201a8\"],[0.3333333333333333,\"#9c179e\"],[0.4444444444444444,\"#bd3786\"],[0.5555555555555556,\"#d8576b\"],[0.6666666666666666,\"#ed7953\"],[0.7777777777777778,\"#fb9f3a\"],[0.8888888888888888,\"#fdca26\"],[1.0,\"#f0f921\"]]}],\"choropleth\":[{\"type\":\"choropleth\",\"colorbar\":{\"outlinewidth\":0,\"ticks\":\"\"}}],\"histogram2d\":[{\"type\":\"histogram2d\",\"colorbar\":{\"outlinewidth\":0,\"ticks\":\"\"},\"colorscale\":[[0.0,\"#0d0887\"],[0.1111111111111111,\"#46039f\"],[0.2222222222222222,\"#7201a8\"],[0.3333333333333333,\"#9c179e\"],[0.4444444444444444,\"#bd3786\"],[0.5555555555555556,\"#d8576b\"],[0.6666666666666666,\"#ed7953\"],[0.7777777777777778,\"#fb9f3a\"],[0.8888888888888888,\"#fdca26\"],[1.0,\"#f0f921\"]]}],\"heatmap\":[{\"type\":\"heatmap\",\"colorbar\":{\"outlinewidth\":0,\"ticks\":\"\"},\"colorscale\":[[0.0,\"#0d0887\"],[0.1111111111111111,\"#46039f\"],[0.2222222222222222,\"#7201a8\"],[0.3333333333333333,\"#9c179e\"],[0.4444444444444444,\"#bd3786\"],[0.5555555555555556,\"#d8576b\"],[0.6666666666666666,\"#ed7953\"],[0.7777777777777778,\"#fb9f3a\"],[0.8888888888888888,\"#fdca26\"],[1.0,\"#f0f921\"]]}],\"heatmapgl\":[{\"type\":\"heatmapgl\",\"colorbar\":{\"outlinewidth\":0,\"ticks\":\"\"},\"colorscale\":[[0.0,\"#0d0887\"],[0.1111111111111111,\"#46039f\"],[0.2222222222222222,\"#7201a8\"],[0.3333333333333333,\"#9c179e\"],[0.4444444444444444,\"#bd3786\"],[0.5555555555555556,\"#d8576b\"],[0.6666666666666666,\"#ed7953\"],[0.7777777777777778,\"#fb9f3a\"],[0.8888888888888888,\"#fdca26\"],[1.0,\"#f0f921\"]]}],\"contourcarpet\":[{\"type\":\"contourcarpet\",\"colorbar\":{\"outlinewidth\":0,\"ticks\":\"\"}}],\"contour\":[{\"type\":\"contour\",\"colorbar\":{\"outlinewidth\":0,\"ticks\":\"\"},\"colorscale\":[[0.0,\"#0d0887\"],[0.1111111111111111,\"#46039f\"],[0.2222222222222222,\"#7201a8\"],[0.3333333333333333,\"#9c179e\"],[0.4444444444444444,\"#bd3786\"],[0.5555555555555556,\"#d8576b\"],[0.6666666666666666,\"#ed7953\"],[0.7777777777777778,\"#fb9f3a\"],[0.8888888888888888,\"#fdca26\"],[1.0,\"#f0f921\"]]}],\"surface\":[{\"type\":\"surface\",\"colorbar\":{\"outlinewidth\":0,\"ticks\":\"\"},\"colorscale\":[[0.0,\"#0d0887\"],[0.1111111111111111,\"#46039f\"],[0.2222222222222222,\"#7201a8\"],[0.3333333333333333,\"#9c179e\"],[0.4444444444444444,\"#bd3786\"],[0.5555555555555556,\"#d8576b\"],[0.6666666666666666,\"#ed7953\"],[0.7777777777777778,\"#fb9f3a\"],[0.8888888888888888,\"#fdca26\"],[1.0,\"#f0f921\"]]}],\"mesh3d\":[{\"type\":\"mesh3d\",\"colorbar\":{\"outlinewidth\":0,\"ticks\":\"\"}}],\"scatter\":[{\"fillpattern\":{\"fillmode\":\"overlay\",\"size\":10,\"solidity\":0.2},\"type\":\"scatter\"}],\"parcoords\":[{\"type\":\"parcoords\",\"line\":{\"colorbar\":{\"outlinewidth\":0,\"ticks\":\"\"}}}],\"scatterpolargl\":[{\"type\":\"scatterpolargl\",\"marker\":{\"colorbar\":{\"outlinewidth\":0,\"ticks\":\"\"}}}],\"bar\":[{\"error_x\":{\"color\":\"#2a3f5f\"},\"error_y\":{\"color\":\"#2a3f5f\"},\"marker\":{\"line\":{\"color\":\"#E5ECF6\",\"width\":0.5},\"pattern\":{\"fillmode\":\"overlay\",\"size\":10,\"solidity\":0.2}},\"type\":\"bar\"}],\"scattergeo\":[{\"type\":\"scattergeo\",\"marker\":{\"colorbar\":{\"outlinewidth\":0,\"ticks\":\"\"}}}],\"scatterpolar\":[{\"type\":\"scatterpolar\",\"marker\":{\"colorbar\":{\"outlinewidth\":0,\"ticks\":\"\"}}}],\"histogram\":[{\"marker\":{\"pattern\":{\"fillmode\":\"overlay\",\"size\":10,\"solidity\":0.2}},\"type\":\"histogram\"}],\"scattergl\":[{\"type\":\"scattergl\",\"marker\":{\"colorbar\":{\"outlinewidth\":0,\"ticks\":\"\"}}}],\"scatter3d\":[{\"type\":\"scatter3d\",\"line\":{\"colorbar\":{\"outlinewidth\":0,\"ticks\":\"\"}},\"marker\":{\"colorbar\":{\"outlinewidth\":0,\"ticks\":\"\"}}}],\"scattermapbox\":[{\"type\":\"scattermapbox\",\"marker\":{\"colorbar\":{\"outlinewidth\":0,\"ticks\":\"\"}}}],\"scatterternary\":[{\"type\":\"scatterternary\",\"marker\":{\"colorbar\":{\"outlinewidth\":0,\"ticks\":\"\"}}}],\"scattercarpet\":[{\"type\":\"scattercarpet\",\"marker\":{\"colorbar\":{\"outlinewidth\":0,\"ticks\":\"\"}}}],\"carpet\":[{\"aaxis\":{\"endlinecolor\":\"#2a3f5f\",\"gridcolor\":\"white\",\"linecolor\":\"white\",\"minorgridcolor\":\"white\",\"startlinecolor\":\"#2a3f5f\"},\"baxis\":{\"endlinecolor\":\"#2a3f5f\",\"gridcolor\":\"white\",\"linecolor\":\"white\",\"minorgridcolor\":\"white\",\"startlinecolor\":\"#2a3f5f\"},\"type\":\"carpet\"}],\"table\":[{\"cells\":{\"fill\":{\"color\":\"#EBF0F8\"},\"line\":{\"color\":\"white\"}},\"header\":{\"fill\":{\"color\":\"#C8D4E3\"},\"line\":{\"color\":\"white\"}},\"type\":\"table\"}],\"barpolar\":[{\"marker\":{\"line\":{\"color\":\"#E5ECF6\",\"width\":0.5},\"pattern\":{\"fillmode\":\"overlay\",\"size\":10,\"solidity\":0.2}},\"type\":\"barpolar\"}],\"pie\":[{\"automargin\":true,\"type\":\"pie\"}]},\"layout\":{\"autotypenumbers\":\"strict\",\"colorway\":[\"#636efa\",\"#EF553B\",\"#00cc96\",\"#ab63fa\",\"#FFA15A\",\"#19d3f3\",\"#FF6692\",\"#B6E880\",\"#FF97FF\",\"#FECB52\"],\"font\":{\"color\":\"#2a3f5f\"},\"hovermode\":\"closest\",\"hoverlabel\":{\"align\":\"left\"},\"paper_bgcolor\":\"white\",\"plot_bgcolor\":\"#E5ECF6\",\"polar\":{\"bgcolor\":\"#E5ECF6\",\"angularaxis\":{\"gridcolor\":\"white\",\"linecolor\":\"white\",\"ticks\":\"\"},\"radialaxis\":{\"gridcolor\":\"white\",\"linecolor\":\"white\",\"ticks\":\"\"}},\"ternary\":{\"bgcolor\":\"#E5ECF6\",\"aaxis\":{\"gridcolor\":\"white\",\"linecolor\":\"white\",\"ticks\":\"\"},\"baxis\":{\"gridcolor\":\"white\",\"linecolor\":\"white\",\"ticks\":\"\"},\"caxis\":{\"gridcolor\":\"white\",\"linecolor\":\"white\",\"ticks\":\"\"}},\"coloraxis\":{\"colorbar\":{\"outlinewidth\":0,\"ticks\":\"\"}},\"colorscale\":{\"sequential\":[[0.0,\"#0d0887\"],[0.1111111111111111,\"#46039f\"],[0.2222222222222222,\"#7201a8\"],[0.3333333333333333,\"#9c179e\"],[0.4444444444444444,\"#bd3786\"],[0.5555555555555556,\"#d8576b\"],[0.6666666666666666,\"#ed7953\"],[0.7777777777777778,\"#fb9f3a\"],[0.8888888888888888,\"#fdca26\"],[1.0,\"#f0f921\"]],\"sequentialminus\":[[0.0,\"#0d0887\"],[0.1111111111111111,\"#46039f\"],[0.2222222222222222,\"#7201a8\"],[0.3333333333333333,\"#9c179e\"],[0.4444444444444444,\"#bd3786\"],[0.5555555555555556,\"#d8576b\"],[0.6666666666666666,\"#ed7953\"],[0.7777777777777778,\"#fb9f3a\"],[0.8888888888888888,\"#fdca26\"],[1.0,\"#f0f921\"]],\"diverging\":[[0,\"#8e0152\"],[0.1,\"#c51b7d\"],[0.2,\"#de77ae\"],[0.3,\"#f1b6da\"],[0.4,\"#fde0ef\"],[0.5,\"#f7f7f7\"],[0.6,\"#e6f5d0\"],[0.7,\"#b8e186\"],[0.8,\"#7fbc41\"],[0.9,\"#4d9221\"],[1,\"#276419\"]]},\"xaxis\":{\"gridcolor\":\"white\",\"linecolor\":\"white\",\"ticks\":\"\",\"title\":{\"standoff\":15},\"zerolinecolor\":\"white\",\"automargin\":true,\"zerolinewidth\":2},\"yaxis\":{\"gridcolor\":\"white\",\"linecolor\":\"white\",\"ticks\":\"\",\"title\":{\"standoff\":15},\"zerolinecolor\":\"white\",\"automargin\":true,\"zerolinewidth\":2},\"scene\":{\"xaxis\":{\"backgroundcolor\":\"#E5ECF6\",\"gridcolor\":\"white\",\"linecolor\":\"white\",\"showbackground\":true,\"ticks\":\"\",\"zerolinecolor\":\"white\",\"gridwidth\":2},\"yaxis\":{\"backgroundcolor\":\"#E5ECF6\",\"gridcolor\":\"white\",\"linecolor\":\"white\",\"showbackground\":true,\"ticks\":\"\",\"zerolinecolor\":\"white\",\"gridwidth\":2},\"zaxis\":{\"backgroundcolor\":\"#E5ECF6\",\"gridcolor\":\"white\",\"linecolor\":\"white\",\"showbackground\":true,\"ticks\":\"\",\"zerolinecolor\":\"white\",\"gridwidth\":2}},\"shapedefaults\":{\"line\":{\"color\":\"#2a3f5f\"}},\"annotationdefaults\":{\"arrowcolor\":\"#2a3f5f\",\"arrowhead\":0,\"arrowwidth\":1},\"geo\":{\"bgcolor\":\"white\",\"landcolor\":\"#E5ECF6\",\"subunitcolor\":\"white\",\"showland\":true,\"showlakes\":true,\"lakecolor\":\"white\"},\"title\":{\"x\":0.05},\"mapbox\":{\"style\":\"light\"}}},\"mapbox\":{\"domain\":{\"x\":[0.0,1.0],\"y\":[0.0,1.0]},\"center\":{\"lat\":40.74619142,\"lon\":-73.95162066},\"zoom\":10,\"style\":\"open-street-map\"},\"coloraxis\":{\"colorbar\":{\"title\":{\"text\":\"ridership\"}},\"colorscale\":[[0.0,\"#0d0887\"],[0.1111111111111111,\"#46039f\"],[0.2222222222222222,\"#7201a8\"],[0.3333333333333333,\"#9c179e\"],[0.4444444444444444,\"#bd3786\"],[0.5555555555555556,\"#d8576b\"],[0.6666666666666666,\"#ed7953\"],[0.7777777777777778,\"#fb9f3a\"],[0.8888888888888888,\"#fdca26\"],[1.0,\"#f0f921\"]]},\"legend\":{\"tracegroupgap\":0,\"itemsizing\":\"constant\"},\"margin\":{\"t\":60},\"height\":700},                        {\"responsive\": true}                    ).then(function(){\n",
       "                            \n",
       "var gd = document.getElementById('1f91d6c1-2ad3-4c04-aaa0-cf984c80b992');\n",
       "var x = new MutationObserver(function (mutations, observer) {{\n",
       "        var display = window.getComputedStyle(gd).display;\n",
       "        if (!display || display === 'none') {{\n",
       "            console.log([gd, 'removed!']);\n",
       "            Plotly.purge(gd);\n",
       "            observer.disconnect();\n",
       "        }}\n",
       "}});\n",
       "\n",
       "// Listen for the removal of the full notebook cells\n",
       "var notebookContainer = gd.closest('#notebook-container');\n",
       "if (notebookContainer) {{\n",
       "    x.observe(notebookContainer, {childList: true});\n",
       "}}\n",
       "\n",
       "// Listen for the clearing of the current output cell\n",
       "var outputEl = gd.closest('.output');\n",
       "if (outputEl) {{\n",
       "    x.observe(outputEl, {childList: true});\n",
       "}}\n",
       "\n",
       "                        })                };                });            </script>        </div>"
      ]
     },
     "metadata": {},
     "output_type": "display_data"
    }
   ],
   "source": [
    "fig=px.scatter_mapbox(\n",
    "    data_frame=agg_jan_df.sort_values(by='ridership',ascending=False).head(50),\n",
    "    lat='latitude',\n",
    "    lon='longitude',\n",
    "    size='ridership',\n",
    "    color='ridership',\n",
    "    hover_name='station_complex',\n",
    "    zoom=10,\n",
    "    height=700,\n",
    "    mapbox_style='open-street-map'\n",
    ")\n",
    "fig.show()\n",
    "fig.write_image(\"top50_subway_scattermap_jan22.png\")"
   ]
  },
  {
   "cell_type": "code",
   "execution_count": null,
   "id": "ba0d3fc6-3814-46a9-a344-17868f25a2d9",
   "metadata": {},
   "outputs": [],
   "source": []
  },
  {
   "cell_type": "markdown",
   "id": "116e4528-dfd2-49ea-af8f-2bb65554d200",
   "metadata": {},
   "source": [
    "![Top 50 Subway Stations Map](top50_subway_scattermap_jan22.png)\n"
   ]
  },
  {
   "cell_type": "markdown",
   "id": "7160a995-4918-46f5-a4b9-1c2fb55faa28",
   "metadata": {},
   "source": [
    "![Top 50 Subway Stations Map](top50_subway_heatmap_jan22.png)"
   ]
  },
  {
   "cell_type": "code",
   "execution_count": null,
   "id": "d264ca78-11fe-493e-b919-2c28b7352195",
   "metadata": {},
   "outputs": [],
   "source": []
  }
 ],
 "metadata": {
  "kernelspec": {
   "display_name": "Python 3 (ipykernel)",
   "language": "python",
   "name": "python3"
  },
  "language_info": {
   "codemirror_mode": {
    "name": "ipython",
    "version": 3
   },
   "file_extension": ".py",
   "mimetype": "text/x-python",
   "name": "python",
   "nbconvert_exporter": "python",
   "pygments_lexer": "ipython3",
   "version": "3.12.7"
  }
 },
 "nbformat": 4,
 "nbformat_minor": 5
}
